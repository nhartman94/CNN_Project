{
 "cells": [
  {
   "cell_type": "markdown",
   "metadata": {},
   "source": [
    "# Full Models\n",
    "\n",
    "**Goals:** \n",
    "\n",
    "1. Play with the dimension uniformity of the three layers\n",
    "2. Use the uniform dimension layers to train our first 3d CNN model!\n",
    "3. Then look at conv2d + LSTM\n"
   ]
  },
  {
   "cell_type": "code",
   "execution_count": 1,
   "metadata": {},
   "outputs": [
    {
     "name": "stderr",
     "output_type": "stream",
     "text": [
      "/home/shared/anaconda3/lib/python3.6/site-packages/h5py/__init__.py:36: FutureWarning: Conversion of the second argument of issubdtype from `float` to `np.floating` is deprecated. In future, it will be treated as `np.float64 == np.dtype(float).type`.\n",
      "  from ._conv import register_converters as _register_converters\n"
     ]
    }
   ],
   "source": [
    "import numpy as np\n",
    "import torch\n",
    "import torch.nn as nn\n",
    "import torch.optim as optim\n",
    "\n",
    "# Loading the other modules I have in parent directories\n",
    "import sys\n",
    "PYTHONPATH=\"../\"\n",
    "sys.path.append(PYTHONPATH)\n",
    "from dataProcessing import getDataLoaders\n",
    "from models import FCNet, CNN_3d, layer0_12x12, layer2_12x12\n",
    "from train import check_accuracy, train\n",
    "from plottingFcts import trainingMetrics, sigBkgEff, plotROC, plotConfusion\n",
    "\n",
    "# Some more magic so that the notebook will reload external python modules;\n",
    "# see http://stackoverflow.com/questions/1907993/autoreload-of-modules-in-ipython\n",
    "%load_ext autoreload\n",
    "%autoreload 2"
   ]
  },
  {
   "cell_type": "code",
   "execution_count": 2,
   "metadata": {},
   "outputs": [],
   "source": [
    "loader_train, loader_val, loader_test = getDataLoaders(batch_size=256)"
   ]
  },
  {
   "cell_type": "code",
   "execution_count": 3,
   "metadata": {},
   "outputs": [
    {
     "name": "stdout",
     "output_type": "stream",
     "text": [
      "Output size after the first conv: 16,2.0,6.0,6.0\n",
      "Output size after the second conv: 8,1.0,4.0,4.0\n"
     ]
    }
   ],
   "source": [
    "myModel = CNN_3d()"
   ]
  },
  {
   "cell_type": "code",
   "execution_count": 4,
   "metadata": {},
   "outputs": [
    {
     "data": {
      "text/plain": [
       "'cnn3d_12x12_C16_F344_S222_P111_C8_F222_S122_P011_fc_50_25_dpt_0.5'"
      ]
     },
     "execution_count": 4,
     "metadata": {},
     "output_type": "execute_result"
    }
   ],
   "source": [
    "myModel.modelName"
   ]
  },
  {
   "cell_type": "markdown",
   "metadata": {},
   "source": [
    "**Sanity check:**\n",
    "Look at the model accuracy before you start training!"
   ]
  },
  {
   "cell_type": "code",
   "execution_count": 5,
   "metadata": {},
   "outputs": [
    {
     "name": "stdout",
     "output_type": "stream",
     "text": [
      "Got 8761 / 30000 correct (29.20)\n"
     ]
    }
   ],
   "source": [
    "check_accuracy(loader_val, myModel)"
   ]
  },
  {
   "cell_type": "markdown",
   "metadata": {},
   "source": [
    "Perfect, close to 33%, as expected!\n",
    "\n",
    "Next, checkt the size of the output."
   ]
  },
  {
   "cell_type": "code",
   "execution_count": 6,
   "metadata": {},
   "outputs": [
    {
     "name": "stdout",
     "output_type": "stream",
     "text": [
      "torch.Size([256, 3])\n"
     ]
    }
   ],
   "source": [
    "for t, (l0, l1, l2, y) in enumerate(loader_train):\n",
    "#     l0_12x12 = layer0_12x12(l0)\n",
    "#     print(\"l0:\",l0_12x12.shape)\n",
    "    \n",
    "#     print(l2.shape)\n",
    "#     l2_12x12 = layer2_12x12(l2)\n",
    "#     print(\"l2:\",l2_12x12.shape)\n",
    "    \n",
    "    cnn_out = myModel(l0,l1,l2)\n",
    "    print(cnn_out.shape)\n",
    "    \n",
    "    break"
   ]
  },
  {
   "cell_type": "markdown",
   "metadata": {},
   "source": [
    "Sanity check: I want to make sure that I'm stitching the models together correctly, so check the parameters of the uniforming dimensionalaity layers so that I have a baseline that I can check against again after I'm done with the training."
   ]
  },
  {
   "cell_type": "code",
   "execution_count": 7,
   "metadata": {},
   "outputs": [
    {
     "name": "stdout",
     "output_type": "stream",
     "text": [
      "Parameters in layer0_12x12:\n",
      "Parameter containing:\n",
      "tensor([[[[-0.1183,  0.1374, -0.1892,  0.1170, -0.1742,  0.2349, -0.1880,\n",
      "           -0.2349]]]])\n",
      "Parameter containing:\n",
      "tensor([ 0.1196])\n",
      "Parameter containing:\n",
      "tensor([[[[-0.4462],\n",
      "          [ 0.0358],\n",
      "          [ 0.3421],\n",
      "          [ 0.1411]]]])\n",
      "Parameter containing:\n",
      "tensor([ 0.4301])\n",
      "\n",
      "Parameters in layer2_12x12:\n",
      "Parameter containing:\n",
      "tensor([[[[ 0.4192, -0.1962]]]])\n",
      "Parameter containing:\n",
      "tensor(1.00000e-02 *\n",
      "       [ 4.4798])\n"
     ]
    }
   ],
   "source": [
    "print('Parameters in layer0_12x12:')\n",
    "for p in list(layer0_12x12.parameters()):\n",
    "    print(p)\n",
    "    \n",
    "print('\\nParameters in layer2_12x12:')\n",
    "for p in list(layer2_12x12.parameters()):\n",
    "    print(p)"
   ]
  },
  {
   "cell_type": "markdown",
   "metadata": {},
   "source": [
    "## Train the model\n",
    "\n",
    "Ok, this is exciting!!"
   ]
  },
  {
   "cell_type": "code",
   "execution_count": 21,
   "metadata": {},
   "outputs": [],
   "source": [
    "optimizer = optim.Adam(myModel.parameters(), lr = 0.00001)"
   ]
  },
  {
   "cell_type": "code",
   "execution_count": 23,
   "metadata": {},
   "outputs": [
    {
     "name": "stdout",
     "output_type": "stream",
     "text": [
      "\n",
      "Epoch 1/5:\n",
      "Iteration 0, loss = 0.4784\n",
      "Got 21917 / 30000 correct (73.06)\n",
      "\n",
      "Iteration 100, loss = 0.5656\n",
      "Got 21931 / 30000 correct (73.10)\n",
      "\n",
      "Iteration 200, loss = 0.5049\n",
      "Got 22008 / 30000 correct (73.36)\n",
      "\n",
      "Iteration 300, loss = 0.5155\n",
      "Got 21984 / 30000 correct (73.28)\n",
      "\n",
      "Iteration 400, loss = 0.5432\n",
      "Got 22044 / 30000 correct (73.48)\n",
      "\n",
      "Iteration 500, loss = 0.4646\n",
      "Got 22067 / 30000 correct (73.56)\n",
      "\n",
      "Iteration 600, loss = 0.4915\n",
      "Got 22025 / 30000 correct (73.42)\n",
      "\n",
      "Iteration 700, loss = 0.5364\n",
      "Got 22072 / 30000 correct (73.57)\n",
      "\n",
      "Got 132359 / 180000 correct (73.53)\n",
      "Got 22003 / 30000 correct (73.34)\n",
      "\n",
      "Epoch 2/5:\n",
      "Iteration 0, loss = 0.4936\n",
      "Got 22082 / 30000 correct (73.61)\n",
      "\n",
      "Iteration 100, loss = 0.4806\n",
      "Got 22011 / 30000 correct (73.37)\n",
      "\n",
      "Iteration 200, loss = 0.4877\n",
      "Got 22063 / 30000 correct (73.54)\n",
      "\n",
      "Iteration 300, loss = 0.4884\n",
      "Got 21988 / 30000 correct (73.29)\n",
      "\n",
      "Iteration 400, loss = 0.4282\n",
      "Got 22041 / 30000 correct (73.47)\n",
      "\n",
      "Iteration 500, loss = 0.4542\n",
      "Got 22014 / 30000 correct (73.38)\n",
      "\n",
      "Iteration 600, loss = 0.4565\n",
      "Got 22066 / 30000 correct (73.55)\n",
      "\n",
      "Iteration 700, loss = 0.4607\n",
      "Got 22125 / 30000 correct (73.75)\n",
      "\n",
      "Got 132615 / 180000 correct (73.67)\n",
      "Got 22122 / 30000 correct (73.74)\n",
      "\n",
      "Epoch 3/5:\n",
      "Iteration 0, loss = 0.4078\n",
      "Got 22126 / 30000 correct (73.75)\n",
      "\n",
      "Iteration 100, loss = 0.4837\n",
      "Got 22085 / 30000 correct (73.62)\n",
      "\n",
      "Iteration 200, loss = 0.4486\n",
      "Got 22043 / 30000 correct (73.48)\n",
      "\n",
      "Iteration 300, loss = 0.5058\n",
      "Got 22145 / 30000 correct (73.82)\n",
      "\n",
      "Iteration 400, loss = 0.4637\n",
      "Got 22157 / 30000 correct (73.86)\n",
      "\n",
      "Iteration 500, loss = 0.4637\n",
      "Got 22082 / 30000 correct (73.61)\n",
      "\n",
      "Iteration 600, loss = 0.4806\n",
      "Got 22148 / 30000 correct (73.83)\n",
      "\n",
      "Iteration 700, loss = 0.5273\n",
      "Got 22142 / 30000 correct (73.81)\n",
      "\n",
      "Got 133116 / 180000 correct (73.95)\n",
      "Got 22103 / 30000 correct (73.68)\n",
      "\n",
      "Epoch 4/5:\n",
      "Iteration 0, loss = 0.4820\n",
      "Got 22149 / 30000 correct (73.83)\n",
      "\n",
      "Iteration 100, loss = 0.5210\n",
      "Got 22256 / 30000 correct (74.19)\n",
      "\n",
      "Iteration 200, loss = 0.4385\n",
      "Got 22192 / 30000 correct (73.97)\n",
      "\n",
      "Iteration 300, loss = 0.4746\n",
      "Got 22136 / 30000 correct (73.79)\n",
      "\n",
      "Iteration 400, loss = 0.5066\n",
      "Got 22102 / 30000 correct (73.67)\n",
      "\n",
      "Iteration 500, loss = 0.5138\n",
      "Got 22184 / 30000 correct (73.95)\n",
      "\n",
      "Iteration 600, loss = 0.5264\n",
      "Got 22077 / 30000 correct (73.59)\n",
      "\n",
      "Iteration 700, loss = 0.4849\n",
      "Got 22135 / 30000 correct (73.78)\n",
      "\n",
      "Got 133000 / 180000 correct (73.89)\n",
      "Got 22172 / 30000 correct (73.91)\n",
      "\n",
      "Epoch 5/5:\n",
      "Iteration 0, loss = 0.5112\n",
      "Got 22115 / 30000 correct (73.72)\n",
      "\n",
      "Iteration 100, loss = 0.4838\n",
      "Got 22125 / 30000 correct (73.75)\n",
      "\n",
      "Iteration 200, loss = 0.4609\n",
      "Got 22145 / 30000 correct (73.82)\n",
      "\n",
      "Iteration 300, loss = 0.4613\n",
      "Got 22131 / 30000 correct (73.77)\n",
      "\n",
      "Iteration 400, loss = 0.4988\n",
      "Got 22117 / 30000 correct (73.72)\n",
      "\n",
      "Iteration 500, loss = 0.4807\n",
      "Got 22215 / 30000 correct (74.05)\n",
      "\n",
      "Iteration 600, loss = 0.4374\n",
      "Got 22153 / 30000 correct (73.84)\n",
      "\n",
      "Iteration 700, loss = 0.4113\n",
      "Got 22209 / 30000 correct (74.03)\n",
      "\n",
      "Got 133132 / 180000 correct (73.96)\n",
      "Got 22153 / 30000 correct (73.84)\n"
     ]
    }
   ],
   "source": [
    "history, myModel = train(loader_train, loader_val, myModel, optimizer, epochs=5, returnBest=True)"
   ]
  },
  {
   "cell_type": "code",
   "execution_count": 24,
   "metadata": {},
   "outputs": [
    {
     "name": "stdout",
     "output_type": "stream",
     "text": [
      "Parameters in layer0_12x12:\n",
      "Parameter containing:\n",
      "tensor([[[[-0.3439, -0.0473, -0.1700,  0.2105, -0.1129,  0.1674, -0.3997,\n",
      "           -0.3968]]]])\n",
      "Parameter containing:\n",
      "tensor(1.00000e-02 *\n",
      "       [ 3.1895])\n",
      "Parameter containing:\n",
      "tensor([[[[-0.3968],\n",
      "          [ 0.1779],\n",
      "          [ 0.5330],\n",
      "          [ 0.3063]]]])\n",
      "Parameter containing:\n",
      "tensor([ 0.7334])\n",
      "\n",
      "Parameters in layer2_12x12:\n",
      "Parameter containing:\n",
      "tensor([[[[ 0.4137, -0.6803]]]])\n",
      "Parameter containing:\n",
      "tensor([ 0.1673])\n"
     ]
    }
   ],
   "source": [
    "print('Parameters in layer0_12x12:')\n",
    "for p in list(layer0_12x12.parameters()):\n",
    "    print(p)\n",
    "    \n",
    "print('\\nParameters in layer2_12x12:')\n",
    "for p in list(layer2_12x12.parameters()):\n",
    "    print(p)"
   ]
  },
  {
   "cell_type": "markdown",
   "metadata": {},
   "source": [
    "These parameter weights are changed from their initial values, so this looks ok!"
   ]
  },
  {
   "cell_type": "code",
   "execution_count": 25,
   "metadata": {},
   "outputs": [
    {
     "name": "stdout",
     "output_type": "stream",
     "text": [
      "Got 22081 / 30000 correct (73.60)\n"
     ]
    }
   ],
   "source": [
    "check_accuracy(loader_val, myModel)"
   ]
  },
  {
   "cell_type": "markdown",
   "metadata": {},
   "source": [
    "### Model evaluation metrics"
   ]
  },
  {
   "cell_type": "code",
   "execution_count": 26,
   "metadata": {},
   "outputs": [
    {
     "data": {
      "image/png": "[encoded data removed]",
      "text/plain": [
       "<matplotlib.figure.Figure at 0x7f52741e5d68>"
      ]
     },
     "metadata": {},
     "output_type": "display_data"
    },
    {
     "data": {
      "image/png": "[encoded data removed]",
      "text/plain": [
       "<matplotlib.figure.Figure at 0x7f52742444e0>"
      ]
     },
     "metadata": {},
     "output_type": "display_data"
    }
   ],
   "source": [
    "trainingMetrics(history)"
   ]
  },
  {
   "cell_type": "code",
   "execution_count": 28,
   "metadata": {},
   "outputs": [
    {
     "data": {
      "image/png": "[encoded data removed]",
      "text/plain": [
       "<matplotlib.figure.Figure at 0x7f5274757080>"
      ]
     },
     "metadata": {},
     "output_type": "display_data"
    },
    {
     "name": "stderr",
     "output_type": "stream",
     "text": [
      "../plottingFcts.py:229: RuntimeWarning: divide by zero encountered in true_divide\n",
      "  plt.semilogy(teff, np.divide(1,beff), style, color=color, label=label)\n"
     ]
    },
    {
     "data": {
      "image/png": "[encoded data removed]",
      "text/plain": [
       "<matplotlib.figure.Figure at 0x7f52743e8048>"
      ]
     },
     "metadata": {},
     "output_type": "display_data"
    },
    {
     "name": "stderr",
     "output_type": "stream",
     "text": [
      "../plottingFcts.py:103: RuntimeWarning: overflow encountered in true_divide\n",
      "  disc = np.log(np.divide(predictions[:,1], predictions[:,0] + predictions[:,2]))\n"
     ]
    },
    {
     "ename": "ValueError",
     "evalue": "range parameter must be finite.",
     "output_type": "error",
     "traceback": [
      "\u001b[0;31m---------------------------------------------------------------------------\u001b[0m",
      "\u001b[0;31mValueError\u001b[0m                                Traceback (most recent call last)",
      "\u001b[0;32m<ipython-input-28-5a1f88c6b638>\u001b[0m in \u001b[0;36m<module>\u001b[0;34m()\u001b[0m\n\u001b[1;32m      2\u001b[0m \u001b[0;34m\u001b[0m\u001b[0m\n\u001b[1;32m      3\u001b[0m \u001b[0;32mfor\u001b[0m \u001b[0mnode\u001b[0m \u001b[0;32min\u001b[0m \u001b[0mrange\u001b[0m\u001b[0;34m(\u001b[0m\u001b[0;36m3\u001b[0m\u001b[0;34m)\u001b[0m\u001b[0;34m:\u001b[0m\u001b[0;34m\u001b[0m\u001b[0m\n\u001b[0;32m----> 4\u001b[0;31m     \u001b[0mg_eff\u001b[0m\u001b[0;34m,\u001b[0m \u001b[0mpi_eff\u001b[0m\u001b[0;34m,\u001b[0m \u001b[0me_eff\u001b[0m \u001b[0;34m=\u001b[0m \u001b[0msigBkgEff\u001b[0m\u001b[0;34m(\u001b[0m\u001b[0mmyModel\u001b[0m\u001b[0;34m,\u001b[0m \u001b[0mloader_val\u001b[0m\u001b[0;34m,\u001b[0m \u001b[0mnode\u001b[0m\u001b[0;34m)\u001b[0m\u001b[0;34m\u001b[0m\u001b[0m\n\u001b[0m\u001b[1;32m      5\u001b[0m     \u001b[0mmTag\u001b[0m \u001b[0;34m=\u001b[0m \u001b[0;34m'{}-sig_{}'\u001b[0m\u001b[0;34m.\u001b[0m\u001b[0mformat\u001b[0m\u001b[0;34m(\u001b[0m\u001b[0mparticles\u001b[0m\u001b[0;34m[\u001b[0m\u001b[0mnode\u001b[0m\u001b[0;34m]\u001b[0m\u001b[0;34m,\u001b[0m \u001b[0mmyModel\u001b[0m\u001b[0;34m.\u001b[0m\u001b[0mmodelName\u001b[0m\u001b[0;34m)\u001b[0m\u001b[0;34m\u001b[0m\u001b[0m\n\u001b[1;32m      6\u001b[0m \u001b[0;34m\u001b[0m\u001b[0m\n",
      "\u001b[0;32m~/CNN_Project/plottingFcts.py\u001b[0m in \u001b[0;36msigBkgEff\u001b[0;34m(m, loader, signalNode)\u001b[0m\n\u001b[1;32m    125\u001b[0m         \u001b[0;31m# Plot the discriminant output\u001b[0m\u001b[0;34m\u001b[0m\u001b[0;34m\u001b[0m\u001b[0m\n\u001b[1;32m    126\u001b[0m         nEntries, edges , _ = plt.hist(disc[ix],alpha=0.5,label='{} shower'.format(flavor),\n\u001b[0;32m--> 127\u001b[0;31m                                       bins=nBins, range=myRange, normed=True, log=True)\n\u001b[0m\u001b[1;32m    128\u001b[0m \u001b[0;34m\u001b[0m\u001b[0m\n\u001b[1;32m    129\u001b[0m         \u001b[0;31m# Calculate the baseline signal and bkg efficiencies\u001b[0m\u001b[0;34m\u001b[0m\u001b[0;34m\u001b[0m\u001b[0m\n",
      "\u001b[0;32m/home/shared/anaconda3/lib/python3.6/site-packages/matplotlib/pyplot.py\u001b[0m in \u001b[0;36mhist\u001b[0;34m(x, bins, range, density, weights, cumulative, bottom, histtype, align, orientation, rwidth, log, color, label, stacked, normed, hold, data, **kwargs)\u001b[0m\n\u001b[1;32m   3023\u001b[0m                       \u001b[0mhisttype\u001b[0m\u001b[0;34m=\u001b[0m\u001b[0mhisttype\u001b[0m\u001b[0;34m,\u001b[0m \u001b[0malign\u001b[0m\u001b[0;34m=\u001b[0m\u001b[0malign\u001b[0m\u001b[0;34m,\u001b[0m \u001b[0morientation\u001b[0m\u001b[0;34m=\u001b[0m\u001b[0morientation\u001b[0m\u001b[0;34m,\u001b[0m\u001b[0;34m\u001b[0m\u001b[0m\n\u001b[1;32m   3024\u001b[0m                       \u001b[0mrwidth\u001b[0m\u001b[0;34m=\u001b[0m\u001b[0mrwidth\u001b[0m\u001b[0;34m,\u001b[0m \u001b[0mlog\u001b[0m\u001b[0;34m=\u001b[0m\u001b[0mlog\u001b[0m\u001b[0;34m,\u001b[0m \u001b[0mcolor\u001b[0m\u001b[0;34m=\u001b[0m\u001b[0mcolor\u001b[0m\u001b[0;34m,\u001b[0m \u001b[0mlabel\u001b[0m\u001b[0;34m=\u001b[0m\u001b[0mlabel\u001b[0m\u001b[0;34m,\u001b[0m\u001b[0;34m\u001b[0m\u001b[0m\n\u001b[0;32m-> 3025\u001b[0;31m                       stacked=stacked, normed=normed, data=data, **kwargs)\n\u001b[0m\u001b[1;32m   3026\u001b[0m     \u001b[0;32mfinally\u001b[0m\u001b[0;34m:\u001b[0m\u001b[0;34m\u001b[0m\u001b[0m\n\u001b[1;32m   3027\u001b[0m         \u001b[0max\u001b[0m\u001b[0;34m.\u001b[0m\u001b[0m_hold\u001b[0m \u001b[0;34m=\u001b[0m \u001b[0mwashold\u001b[0m\u001b[0;34m\u001b[0m\u001b[0m\n",
      "\u001b[0;32m/home/shared/anaconda3/lib/python3.6/site-packages/matplotlib/__init__.py\u001b[0m in \u001b[0;36minner\u001b[0;34m(ax, *args, **kwargs)\u001b[0m\n\u001b[1;32m   1715\u001b[0m                     warnings.warn(msg % (label_namer, func.__name__),\n\u001b[1;32m   1716\u001b[0m                                   RuntimeWarning, stacklevel=2)\n\u001b[0;32m-> 1717\u001b[0;31m             \u001b[0;32mreturn\u001b[0m \u001b[0mfunc\u001b[0m\u001b[0;34m(\u001b[0m\u001b[0max\u001b[0m\u001b[0;34m,\u001b[0m \u001b[0;34m*\u001b[0m\u001b[0margs\u001b[0m\u001b[0;34m,\u001b[0m \u001b[0;34m**\u001b[0m\u001b[0mkwargs\u001b[0m\u001b[0;34m)\u001b[0m\u001b[0;34m\u001b[0m\u001b[0m\n\u001b[0m\u001b[1;32m   1718\u001b[0m         \u001b[0mpre_doc\u001b[0m \u001b[0;34m=\u001b[0m \u001b[0minner\u001b[0m\u001b[0;34m.\u001b[0m\u001b[0m__doc__\u001b[0m\u001b[0;34m\u001b[0m\u001b[0m\n\u001b[1;32m   1719\u001b[0m         \u001b[0;32mif\u001b[0m \u001b[0mpre_doc\u001b[0m \u001b[0;32mis\u001b[0m \u001b[0;32mNone\u001b[0m\u001b[0;34m:\u001b[0m\u001b[0;34m\u001b[0m\u001b[0m\n",
      "\u001b[0;32m/home/shared/anaconda3/lib/python3.6/site-packages/matplotlib/axes/_axes.py\u001b[0m in \u001b[0;36mhist\u001b[0;34m(***failed resolving arguments***)\u001b[0m\n\u001b[1;32m   6163\u001b[0m             \u001b[0;31m# this will automatically overwrite bins,\u001b[0m\u001b[0;34m\u001b[0m\u001b[0;34m\u001b[0m\u001b[0m\n\u001b[1;32m   6164\u001b[0m             \u001b[0;31m# so that each histogram uses the same bins\u001b[0m\u001b[0;34m\u001b[0m\u001b[0;34m\u001b[0m\u001b[0m\n\u001b[0;32m-> 6165\u001b[0;31m             \u001b[0mm\u001b[0m\u001b[0;34m,\u001b[0m \u001b[0mbins\u001b[0m \u001b[0;34m=\u001b[0m \u001b[0mnp\u001b[0m\u001b[0;34m.\u001b[0m\u001b[0mhistogram\u001b[0m\u001b[0;34m(\u001b[0m\u001b[0mx\u001b[0m\u001b[0;34m[\u001b[0m\u001b[0mi\u001b[0m\u001b[0;34m]\u001b[0m\u001b[0;34m,\u001b[0m \u001b[0mbins\u001b[0m\u001b[0;34m,\u001b[0m \u001b[0mweights\u001b[0m\u001b[0;34m=\u001b[0m\u001b[0mw\u001b[0m\u001b[0;34m[\u001b[0m\u001b[0mi\u001b[0m\u001b[0;34m]\u001b[0m\u001b[0;34m,\u001b[0m \u001b[0;34m**\u001b[0m\u001b[0mhist_kwargs\u001b[0m\u001b[0;34m)\u001b[0m\u001b[0;34m\u001b[0m\u001b[0m\n\u001b[0m\u001b[1;32m   6166\u001b[0m             \u001b[0mm\u001b[0m \u001b[0;34m=\u001b[0m \u001b[0mm\u001b[0m\u001b[0;34m.\u001b[0m\u001b[0mastype\u001b[0m\u001b[0;34m(\u001b[0m\u001b[0mfloat\u001b[0m\u001b[0;34m)\u001b[0m  \u001b[0;31m# causes problems later if it's an int\u001b[0m\u001b[0;34m\u001b[0m\u001b[0m\n\u001b[1;32m   6167\u001b[0m             \u001b[0;32mif\u001b[0m \u001b[0mmlast\u001b[0m \u001b[0;32mis\u001b[0m \u001b[0;32mNone\u001b[0m\u001b[0;34m:\u001b[0m\u001b[0;34m\u001b[0m\u001b[0m\n",
      "\u001b[0;32m/home/shared/anaconda3/lib/python3.6/site-packages/numpy/lib/function_base.py\u001b[0m in \u001b[0;36mhistogram\u001b[0;34m(a, bins, range, normed, weights, density)\u001b[0m\n\u001b[1;32m    668\u001b[0m     \u001b[0;32mif\u001b[0m \u001b[0;32mnot\u001b[0m \u001b[0mnp\u001b[0m\u001b[0;34m.\u001b[0m\u001b[0mall\u001b[0m\u001b[0;34m(\u001b[0m\u001b[0mnp\u001b[0m\u001b[0;34m.\u001b[0m\u001b[0misfinite\u001b[0m\u001b[0;34m(\u001b[0m\u001b[0;34m[\u001b[0m\u001b[0mfirst_edge\u001b[0m\u001b[0;34m,\u001b[0m \u001b[0mlast_edge\u001b[0m\u001b[0;34m]\u001b[0m\u001b[0;34m)\u001b[0m\u001b[0;34m)\u001b[0m\u001b[0;34m:\u001b[0m\u001b[0;34m\u001b[0m\u001b[0m\n\u001b[1;32m    669\u001b[0m         raise ValueError(\n\u001b[0;32m--> 670\u001b[0;31m             'range parameter must be finite.')\n\u001b[0m\u001b[1;32m    671\u001b[0m     \u001b[0;32mif\u001b[0m \u001b[0mfirst_edge\u001b[0m \u001b[0;34m==\u001b[0m \u001b[0mlast_edge\u001b[0m\u001b[0;34m:\u001b[0m\u001b[0;34m\u001b[0m\u001b[0m\n\u001b[1;32m    672\u001b[0m         \u001b[0mfirst_edge\u001b[0m \u001b[0;34m-=\u001b[0m \u001b[0;36m0.5\u001b[0m\u001b[0;34m\u001b[0m\u001b[0m\n",
      "\u001b[0;31mValueError\u001b[0m: range parameter must be finite."
     ]
    },
    {
     "data": {
      "image/png": "[encoded data removed]",
      "text/plain": [
       "<matplotlib.figure.Figure at 0x7f527423dba8>"
      ]
     },
     "metadata": {},
     "output_type": "display_data"
    }
   ],
   "source": [
    "particles = ['gamma','pi','e']\n",
    "\n",
    "for node in range(3):\n",
    "    g_eff, pi_eff, e_eff = sigBkgEff(myModel, loader_val, node)\n",
    "    mTag = '{}-sig_{}'.format(particles[node], myModel.modelName)\n",
    "    \n",
    "    # Plot the ROC curve using node as the signal and the other two as the bkg\n",
    "    if node == 0:\n",
    "        plotROC([g_eff, g_eff], [pi_eff, e_eff], ['$\\pi^+$ rej', '$e^+$ rej'], title='$\\gamma$ signal', tag=mTag)\n",
    "    if node == 1:\n",
    "        plotROC([pi_eff, pi_eff], [g_eff, e_eff], ['$\\gamma$ rej', '$e^+$ rej'], title='$\\pi^+$ signal', tag=mTag)\n",
    "    elif node == 2:\n",
    "        plotROC([e_eff, e_eff], [g_eff, pi_eff], ['$\\gamma$ rej', '$\\pi^+$ rej'], title='$e^+$ signal', tag=mTag)\n",
    "        "
   ]
  },
  {
   "cell_type": "code",
   "execution_count": 29,
   "metadata": {},
   "outputs": [
    {
     "data": {
      "image/png": "[encoded data removed]",
      "text/plain": [
       "<matplotlib.figure.Figure at 0x7f52740cb438>"
      ]
     },
     "metadata": {},
     "output_type": "display_data"
    }
   ],
   "source": [
    "plotConfusion(myModel, loader_val, title=\"Multi Layer Perceptron Baseline\")"
   ]
  },
  {
   "cell_type": "code",
   "execution_count": null,
   "metadata": {},
   "outputs": [],
   "source": []
  },
  {
   "cell_type": "code",
   "execution_count": null,
   "metadata": {},
   "outputs": [],
   "source": []
  },
  {
   "cell_type": "markdown",
   "metadata": {},
   "source": [
    "# Recurrent CNN\n",
    "\n",
    "- Apply three 2d convolutions to get a fixed size for the image vector!"
   ]
  }
 ],
 "metadata": {
  "kernelspec": {
   "display_name": "Python 3",
   "language": "python",
   "name": "python3"
  },
  "language_info": {
   "codemirror_mode": {
    "name": "ipython",
    "version": 3
   },
   "file_extension": ".py",
   "mimetype": "text/x-python",
   "name": "python",
   "nbconvert_exporter": "python",
   "pygments_lexer": "ipython3",
   "version": "3.6.4"
  }
 },
 "nbformat": 4,
 "nbformat_minor": 2
}
