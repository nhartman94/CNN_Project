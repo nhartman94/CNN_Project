{
 "cells": [
  {
   "cell_type": "markdown",
   "metadata": {},
   "source": [
    "# Exploring Dataset\n",
    "\n",
    "Goals: Open the data set, make some plots, gain some intuition for what your inputs for the models are going to be!\n"
   ]
  },
  {
   "cell_type": "markdown",
   "metadata": {},
   "source": [
    "## 1. Load in the dataset\n",
    "\n",
    "Just load the dataset in downloaded from Mendeley.\n",
    "\n",
    "https://data.mendeley.com/datasets/pvn3xc3wy5/1"
   ]
  },
  {
   "cell_type": "code",
   "execution_count": 20,
   "metadata": {
    "collapsed": true
   },
   "outputs": [],
   "source": [
    "from __future__ import division, print_function\n",
    "import h5py\n",
    "import numpy as np\n",
    "import pandas as pd\n",
    "import matplotlib\n",
    "import matplotlib.pyplot as plt\n",
    "from matplotlib.colors import LogNorm\n",
    "%matplotlib inline"
   ]
  },
  {
   "cell_type": "code",
   "execution_count": 21,
   "metadata": {
    "collapsed": true
   },
   "outputs": [],
   "source": [
    "d_gamma = h5py.File('../data/gamma.hdf5', 'r')\n",
    "d_eplus = h5py.File('../data/eplus.hdf5', 'r')\n",
    "d_piplus = h5py.File('../data/piplus.hdf5', 'r')"
   ]
  },
  {
   "cell_type": "code",
   "execution_count": 22,
   "metadata": {},
   "outputs": [
    {
     "name": "stdout",
     "output_type": "stream",
     "text": [
      "energy\n",
      "layer_0\n",
      "layer_1\n",
      "layer_2\n",
      "overflow\n"
     ]
    }
   ],
   "source": [
    "# Take a look at what variables are in the datasets \n",
    "for key in d_gamma:\n",
    "    print(key)"
   ]
  },
  {
   "cell_type": "markdown",
   "metadata": {},
   "source": [
    "The energy corresponds to the truth labels that we're going to try to learn for this regression task. \n",
    "\n",
    "Next: unpack these datasets!!"
   ]
  },
  {
   "cell_type": "code",
   "execution_count": 23,
   "metadata": {
    "collapsed": true
   },
   "outputs": [],
   "source": [
    "gamma_E    = d_gamma['energy'][:]\n",
    "gamma_0    = d_gamma['layer_0'][:]\n",
    "gamma_1    = d_gamma['layer_1'][:]\n",
    "gamma_2    = d_gamma['layer_2'][:]\n",
    "g_overflow = d_gamma['overflow'][:]\n",
    "\n",
    "eplus_E    = d_eplus['energy'][:]\n",
    "eplus_0    = d_eplus['layer_0'][:]\n",
    "eplus_1    = d_eplus['layer_1'][:]\n",
    "eplus_2    = d_eplus['layer_2'][:]\n",
    "e_overflow = d_eplus['overflow'][:]\n",
    "\n",
    "piplus_E   = d_piplus['energy'][:]\n",
    "piplus_0   = d_piplus['layer_0'][:]\n",
    "piplus_1   = d_piplus['layer_1'][:]\n",
    "piplus_2   = d_piplus['layer_2'][:]\n",
    "p_overflow = d_piplus['overflow'][:]"
   ]
  },
  {
   "cell_type": "code",
   "execution_count": 24,
   "metadata": {},
   "outputs": [
    {
     "name": "stdout",
     "output_type": "stream",
     "text": [
      "\n",
      "\n",
      "Event 0\n",
      "Total Energy: [ 68.92140509] GeV\n",
      "Layer 0: 5725.28586987 MeV\n",
      "Layer 1: 62348.5531234 MeV\n",
      "Layer 2: 346.868688118 MeV\n",
      "Overflow:  [  5.97469011  86.82075045   2.88631745]\n",
      "reco energy from layers 68.4207076814 GeV\n",
      "overflow 0.0956817580152 GeV\n",
      "reco + overflow 68.5163894394\n",
      "\n",
      "\n",
      "Event 1\n",
      "Total Energy: [ 30.48531135] GeV\n",
      "Layer 0: 9153.44425126 MeV\n",
      "Layer 1: 21117.7822771 MeV\n",
      "Layer 2: 23.7595637755 MeV\n",
      "Overflow:  [  7.01464092  25.51877899   4.34652727]\n",
      "reco energy from layers 30.2949860922 GeV\n",
      "overflow 0.0368799471816 GeV\n",
      "reco + overflow 30.3318660393\n",
      "\n",
      "\n",
      "Event 2\n",
      "Total Energy: [ 85.59280354] GeV\n",
      "Layer 0: 10229.656556 MeV\n",
      "Layer 1: 74766.532912 MeV\n",
      "Layer 2: 97.0221261692 MeV\n",
      "Overflow:  [ 16.2788195   76.01014154   1.513668  ]\n",
      "reco energy from layers 85.0932115942 GeV\n",
      "overflow 0.0938026290422 GeV\n",
      "reco + overflow 85.1870142233\n",
      "\n",
      "\n",
      "Event 3\n",
      "Total Energy: [ 45.30479366] GeV\n",
      "Layer 0: 10315.935894 MeV\n",
      "Layer 1: 34719.1449343 MeV\n",
      "Layer 2: 38.3877737482 MeV\n",
      "Overflow:  [  6.25997022e+00   3.91373308e+01   2.03221065e-02]\n",
      "reco energy from layers 45.0734686021 GeV\n",
      "overflow 0.0454176231227 GeV\n",
      "reco + overflow 45.1188862252\n",
      "\n",
      "\n",
      "Event 4\n",
      "Total Energy: [ 7.54570583] GeV\n",
      "Layer 0: 1680.23975137 MeV\n",
      "Layer 1: 5841.6109473 MeV\n",
      "Layer 2: 4.19751225943 MeV\n",
      "Overflow:  [ 0.          4.81454085  0.        ]\n",
      "reco energy from layers 7.52604821092 GeV\n",
      "overflow 0.00481454085262 GeV\n",
      "reco + overflow 7.53086275178\n"
     ]
    }
   ],
   "source": [
    "# Look at the first event\n",
    "for i in range(5):\n",
    "    \n",
    "    print('\\n\\nEvent',i)\n",
    "    print('Total Energy: {} GeV'.format(gamma_E[i]))\n",
    "    \n",
    "    imgs = [gamma_0[i], gamma_1[i], gamma_2[i]]\n",
    "    \n",
    "    E_layer = np.array([np.sum(img) for img in imgs])\n",
    "    \n",
    "    print('Layer 0: {} MeV'.format(E_layer[0]))\n",
    "    print('Layer 1: {} MeV'.format(E_layer[1]))\n",
    "    print('Layer 2: {} MeV'.format(E_layer[2]))\n",
    "    print('Overflow: ',g_overflow[i])\n",
    "    \n",
    "    E_reco = np.sum(E_layer)/1000\n",
    "    print('reco energy from layers {} GeV'.format(E_reco))\n",
    "    sum_ovfl = np.sum(g_overflow[i])/1000\n",
    "    print('overflow {} GeV'.format(sum_ovfl))\n",
    "    \n",
    "    print('reco + overflow {}'.format(E_reco+sum_ovfl))"
   ]
  },
  {
   "cell_type": "markdown",
   "metadata": {},
   "source": [
    "Something interesting to note: the difference between the reco energy and the overflow bins is the same order of magnitude as the the final difference between the reco and the truth energies."
   ]
  },
  {
   "cell_type": "markdown",
   "metadata": {},
   "source": [
    "## 2. Plot the distributions of $E_{truth}$ and $E_{reco}$ for each of the particle types, maybe the error??"
   ]
  },
  {
   "cell_type": "code",
   "execution_count": 25,
   "metadata": {
    "collapsed": true
   },
   "outputs": [],
   "source": [
    "real_images_gamma = [gamma_0, gamma_1, gamma_2]\n",
    "real_images_eplus = [eplus_0, eplus_1, eplus_2]\n",
    "real_images_piplus = [piplus_0, piplus_1, piplus_2]"
   ]
  },
  {
   "cell_type": "code",
   "execution_count": 26,
   "metadata": {
    "collapsed": true
   },
   "outputs": [],
   "source": [
    "def total_energy(d):\n",
    "    '''\n",
    "    Calculates the total energy for each event across all layers.\n",
    "    Args:\n",
    "    -----\n",
    "    d: an h5py File with fields 'layer_2', 'layer_1', 'layer_0'\n",
    "       that represent the 2d cell grids and the corresponding\n",
    "       E depositons.\n",
    "       \n",
    "    Function taken from the CaloGAN repo \n",
    "    '''\n",
    "    return d['layer_0'][:].sum(axis=(1, 2)) + d['layer_1'][:].sum(axis=(1, 2)) + d['layer_2'][:].sum(axis=(1, 2))\n"
   ]
  },
  {
   "cell_type": "code",
   "execution_count": 44,
   "metadata": {
    "collapsed": true
   },
   "outputs": [],
   "source": [
    "etot_orig_eplus = total_energy(d_eplus)\n",
    "#etot_gen_eplus = total_energy(dgen_eplus)\n",
    "etot_orig_gamma = total_energy(d_gamma)\n",
    "#etot_gen_gamma = total_energy(dgen_gamma)\n",
    "etot_orig_piplus = total_energy(d_piplus)\n",
    "#etot_gen_piplus = total_energy(dgen_piplus)"
   ]
  },
  {
   "cell_type": "code",
   "execution_count": 71,
   "metadata": {},
   "outputs": [],
   "source": [
    "gamma_df = pd.DataFrame()\n",
    "eplus_df = pd.DataFrame()\n",
    "piplus_df = pd.DataFrame()\n",
    "\n",
    "dfs = [eplus_df, gamma_df, piplus_df]\n",
    "reco_Es = [etot_orig_eplus, etot_orig_gamma, etot_orig_piplus] # rn in MeV\n",
    "truth_Es = [eplus_E,gamma_E,piplus_E]\n",
    "\n",
    "for df, etot_orig, Etruth in zip(dfs, reco_Es, truth_Es):\n",
    "\n",
    "    df['Etruth'] = pd.Series([E[0] for E in Etruth])\n",
    "    df['Ereco'] = pd.Series(etot_orig * 0.001)\n",
    "    df['err'] = df['Etruth'] - df['Ereco']"
   ]
  },
  {
   "cell_type": "code",
   "execution_count": 72,
   "metadata": {},
   "outputs": [
    {
     "data": {
      "text/html": [
       "<div>\n",
       "<style>\n",
       "    .dataframe thead tr:only-child th {\n",
       "        text-align: right;\n",
       "    }\n",
       "\n",
       "    .dataframe thead th {\n",
       "        text-align: left;\n",
       "    }\n",
       "\n",
       "    .dataframe tbody tr th {\n",
       "        vertical-align: top;\n",
       "    }\n",
       "</style>\n",
       "<table border=\"1\" class=\"dataframe\">\n",
       "  <thead>\n",
       "    <tr style=\"text-align: right;\">\n",
       "      <th></th>\n",
       "      <th>Etruth</th>\n",
       "      <th>Ereco</th>\n",
       "      <th>err</th>\n",
       "    </tr>\n",
       "  </thead>\n",
       "  <tbody>\n",
       "    <tr>\n",
       "      <th>0</th>\n",
       "      <td>68.921405</td>\n",
       "      <td>68.420708</td>\n",
       "      <td>0.500697</td>\n",
       "    </tr>\n",
       "    <tr>\n",
       "      <th>1</th>\n",
       "      <td>30.485311</td>\n",
       "      <td>30.294986</td>\n",
       "      <td>0.190325</td>\n",
       "    </tr>\n",
       "    <tr>\n",
       "      <th>2</th>\n",
       "      <td>85.592804</td>\n",
       "      <td>85.093212</td>\n",
       "      <td>0.499592</td>\n",
       "    </tr>\n",
       "    <tr>\n",
       "      <th>3</th>\n",
       "      <td>45.304794</td>\n",
       "      <td>45.073469</td>\n",
       "      <td>0.231325</td>\n",
       "    </tr>\n",
       "    <tr>\n",
       "      <th>4</th>\n",
       "      <td>7.545706</td>\n",
       "      <td>7.526048</td>\n",
       "      <td>0.019658</td>\n",
       "    </tr>\n",
       "  </tbody>\n",
       "</table>\n",
       "</div>"
      ],
      "text/plain": [
       "      Etruth      Ereco       err\n",
       "0  68.921405  68.420708  0.500697\n",
       "1  30.485311  30.294986  0.190325\n",
       "2  85.592804  85.093212  0.499592\n",
       "3  45.304794  45.073469  0.231325\n",
       "4   7.545706   7.526048  0.019658"
      ]
     },
     "execution_count": 72,
     "metadata": {},
     "output_type": "execute_result"
    }
   ],
   "source": [
    "gamma_df.head()"
   ]
  },
  {
   "cell_type": "code",
   "execution_count": 73,
   "metadata": {},
   "outputs": [
    {
     "data": {
      "image/png": "[encoded data removed]",
      "text/plain": [
       "<matplotlib.figure.Figure at 0x7fe0f61a9b10>"
      ]
     },
     "metadata": {},
     "output_type": "display_data"
    }
   ],
   "source": [
    "# Ok, everything's loaded in memory now... let's plot the histograms!!\n",
    "\n",
    "plt.hist(eplus_df.Etruth, color='C0', label='e+', alpha=0.5)\n",
    "plt.hist(gamma_df.Etruth, color='C1', label='$\\gamma$', alpha=0.5)\n",
    "plt.hist(piplus_df.Etruth, color='C2', label='$\\pi$ +', alpha=0.5)\n",
    "plt.xlabel('E [GeV]')\n",
    "plt.title('Truth Energy')\n",
    "plt.legend()\n",
    "plt.show()"
   ]
  },
  {
   "cell_type": "code",
   "execution_count": 74,
   "metadata": {},
   "outputs": [
    {
     "data": {
      "image/png": "[encoded data removed]",
      "text/plain": [
       "<matplotlib.figure.Figure at 0x7fe0f6367050>"
      ]
     },
     "metadata": {},
     "output_type": "display_data"
    }
   ],
   "source": [
    "\n",
    "plt.hist(eplus_df.Ereco, color='C0', label='e+', alpha=0.5)\n",
    "plt.hist(gamma_df.Ereco, color='C1', label='$\\gamma$', alpha=0.5)\n",
    "plt.hist(piplus_df.Ereco, color='C2', label='$\\pi$ +', alpha=0.5)\n",
    "plt.xlabel('E [GeV]')\n",
    "plt.title('Reco Energy')\n",
    "plt.legend()\n",
    "plt.show()"
   ]
  },
  {
   "cell_type": "code",
   "execution_count": 75,
   "metadata": {},
   "outputs": [
    {
     "data": {
      "text/plain": [
       "(100000,)"
      ]
     },
     "execution_count": 75,
     "metadata": {},
     "output_type": "execute_result"
    }
   ],
   "source": [
    "etot_orig_eplus.shape"
   ]
  },
  {
   "cell_type": "code",
   "execution_count": 76,
   "metadata": {},
   "outputs": [
    {
     "data": {
      "text/plain": [
       "(100000,)"
      ]
     },
     "execution_count": 76,
     "metadata": {},
     "output_type": "execute_result"
    }
   ],
   "source": [
    "eplus_df.Etruth.shape"
   ]
  },
  {
   "cell_type": "code",
   "execution_count": 83,
   "metadata": {},
   "outputs": [
    {
     "data": {
      "image/png": "[encoded data removed]",
      "text/plain": [
       "<matplotlib.figure.Figure at 0x7fe0ab130690>"
      ]
     },
     "metadata": {},
     "output_type": "display_data"
    },
    {
     "data": {
      "image/png": "[encoded data removed]",
      "text/plain": [
       "<matplotlib.figure.Figure at 0x7fe0f61a9290>"
      ]
     },
     "metadata": {},
     "output_type": "display_data"
    },
    {
     "data": {
      "image/png": "[encoded data removed]",
      "text/plain": [
       "<matplotlib.figure.Figure at 0x7fe0f6023250>"
      ]
     },
     "metadata": {},
     "output_type": "display_data"
    }
   ],
   "source": [
    "# Hmmm, is the goal to look at the energy resolution and find a correction that works for pions and well as\n",
    "# e/gammas, OR also zoom in on the resolution of the e/gammas?\n",
    "\n",
    "colors = ['C0','C1','C2']\n",
    "labels = ['e+', '$\\gamma$','$\\pi$ +']\n",
    "ranges = [(-0.5,5.5),(-0.5,5.5),(-0.5,100.5)]\n",
    "Nbins = [60,60,101]\n",
    "for c, df, label, myRange,N in zip(colors, dfs, labels, ranges, Nbins):\n",
    "\n",
    "    plt.figure()\n",
    "    plt.hist(df['err'], color=c, alpha=0.5, range=myRange, bins=N)\n",
    "    plt.xlabel('{}: $E(reco) - E(truth)$ [GeV]'.format(label))\n",
    "\n",
    "    \n",
    "plt.show()"
   ]
  },
  {
   "cell_type": "code",
   "execution_count": 78,
   "metadata": {},
   "outputs": [
    {
     "data": {
      "text/plain": [
       "(-0.0010219978200041169, 38.938677630555489)"
      ]
     },
     "execution_count": 78,
     "metadata": {},
     "output_type": "execute_result"
    }
   ],
   "source": [
    "min(eplus_df.err),max(eplus_df.err)"
   ]
  },
  {
   "cell_type": "code",
   "execution_count": 79,
   "metadata": {},
   "outputs": [
    {
     "data": {
      "text/plain": [
       "(-3.5527136788005009e-15, 74.000673820719243)"
      ]
     },
     "execution_count": 79,
     "metadata": {},
     "output_type": "execute_result"
    }
   ],
   "source": [
    "min(gamma_df.err),max(gamma_df.err)"
   ]
  },
  {
   "cell_type": "code",
   "execution_count": 81,
   "metadata": {},
   "outputs": [
    {
     "data": {
      "text/plain": [
       "(-0.11581469826671498, 99.694679055660103)"
      ]
     },
     "execution_count": 81,
     "metadata": {},
     "output_type": "execute_result"
    }
   ],
   "source": [
    "min(piplus_df.err),max(piplus_df.err)"
   ]
  },
  {
   "cell_type": "markdown",
   "metadata": {},
   "source": [
    "**Question**:\n",
    "- Is this 1 GeV error for the $e^+$ / $\\gamma$ significant or not?\n",
    "\n",
    "**Note**:\n",
    "- The pion errors are *huge* since pions aren't contained in the ECAL. BUT maybe we could build a classifier that is also able to distinguish between hadronic and EM showers?\n",
    "\n",
    "**Another Question**:\n",
    "- Is this what the EM and LC jets are trying to do?"
   ]
  },
  {
   "cell_type": "code",
   "execution_count": null,
   "metadata": {
    "collapsed": true
   },
   "outputs": [],
   "source": []
  }
 ],
 "metadata": {
  "kernelspec": {
   "display_name": "Python 2",
   "language": "python",
   "name": "python2"
  },
  "language_info": {
   "codemirror_mode": {
    "name": "ipython",
    "version": 2
   },
   "file_extension": ".py",
   "mimetype": "text/x-python",
   "name": "python",
   "nbconvert_exporter": "python",
   "pygments_lexer": "ipython2",
   "version": "2.7.13"
  }
 },
 "nbformat": 4,
 "nbformat_minor": 2
}
