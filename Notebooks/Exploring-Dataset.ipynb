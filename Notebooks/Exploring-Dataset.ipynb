{
 "cells": [
  {
   "cell_type": "markdown",
   "metadata": {},
   "source": [
    "# Exploring Dataset\n",
    "\n",
    "Goals: Open the data set, make some plots, gain some intuition for what your inputs for the models are going to be!\n"
   ]
  },
  {
   "cell_type": "markdown",
   "metadata": {},
   "source": [
    "## 1. Load in the dataset\n",
    "\n",
    "Just load the dataset in downloaded from Mendeley.\n",
    "\n",
    "https://data.mendeley.com/datasets/pvn3xc3wy5/1"
   ]
  },
  {
   "cell_type": "code",
   "execution_count": 1,
   "metadata": {},
   "outputs": [
    {
     "name": "stderr",
     "output_type": "stream",
     "text": [
      "/home/shared/anaconda3/lib/python3.6/site-packages/h5py/__init__.py:36: FutureWarning: Conversion of the second argument of issubdtype from `float` to `np.floating` is deprecated. In future, it will be treated as `np.float64 == np.dtype(float).type`.\n",
      "  from ._conv import register_converters as _register_converters\n"
     ]
    }
   ],
   "source": [
    "from __future__ import division, print_function\n",
    "import h5py\n",
    "import numpy as np\n",
    "import pandas as pd\n",
    "import matplotlib\n",
    "import matplotlib.pyplot as plt\n",
    "from matplotlib.colors import LogNorm\n",
    "%matplotlib inline"
   ]
  },
  {
   "cell_type": "code",
   "execution_count": 2,
   "metadata": {},
   "outputs": [],
   "source": [
    "d_gamma = h5py.File('../data/gamma.hdf5', 'r')\n",
    "d_eplus = h5py.File('../data/eplus.hdf5', 'r')\n",
    "d_piplus = h5py.File('../data/piplus.hdf5', 'r')"
   ]
  },
  {
   "cell_type": "code",
   "execution_count": 3,
   "metadata": {},
   "outputs": [
    {
     "name": "stdout",
     "output_type": "stream",
     "text": [
      "energy\n",
      "layer_0\n",
      "layer_1\n",
      "layer_2\n",
      "overflow\n"
     ]
    }
   ],
   "source": [
    "# Take a look at what variables are in the datasets \n",
    "for key in d_gamma:\n",
    "    print(key)"
   ]
  },
  {
   "cell_type": "markdown",
   "metadata": {},
   "source": [
    "The energy corresponds to the truth labels that we're going to try to learn for this regression task. \n",
    "\n",
    "Next: unpack these datasets!!"
   ]
  },
  {
   "cell_type": "code",
   "execution_count": 4,
   "metadata": {},
   "outputs": [],
   "source": [
    "gamma_E    = d_gamma['energy'][:]\n",
    "gamma_0    = d_gamma['layer_0'][:]\n",
    "gamma_1    = d_gamma['layer_1'][:]\n",
    "gamma_2    = d_gamma['layer_2'][:]\n",
    "g_overflow = d_gamma['overflow'][:]\n",
    "\n",
    "eplus_E    = d_eplus['energy'][:]\n",
    "eplus_0    = d_eplus['layer_0'][:]\n",
    "eplus_1    = d_eplus['layer_1'][:]\n",
    "eplus_2    = d_eplus['layer_2'][:]\n",
    "e_overflow = d_eplus['overflow'][:]\n",
    "\n",
    "piplus_E   = d_piplus['energy'][:]\n",
    "piplus_0   = d_piplus['layer_0'][:]\n",
    "piplus_1   = d_piplus['layer_1'][:]\n",
    "piplus_2   = d_piplus['layer_2'][:]\n",
    "p_overflow = d_piplus['overflow'][:]"
   ]
  },
  {
   "cell_type": "code",
   "execution_count": 5,
   "metadata": {},
   "outputs": [
    {
     "name": "stdout",
     "output_type": "stream",
     "text": [
      "\n",
      "\n",
      "Event 0\n",
      "Total Energy: [68.92140509] GeV\n",
      "Layer 0: 5725.285869873099 MeV\n",
      "Layer 1: 62348.55312337858 MeV\n",
      "Layer 2: 346.86868811761656 MeV\n",
      "Overflow:  [ 5.97469011 86.82075045  2.88631745]\n",
      "reco energy from layers 68.42070768136928 GeV\n",
      "overflow 0.09568175801524477 GeV\n",
      "reco + overflow 68.51638943938453\n",
      "\n",
      "\n",
      "Event 1\n",
      "Total Energy: [30.48531135] GeV\n",
      "Layer 0: 9153.444251260713 MeV\n",
      "Layer 1: 21117.782277122482 MeV\n",
      "Layer 2: 23.759563775480192 MeV\n",
      "Overflow:  [ 7.01464092 25.51877899  4.34652727]\n",
      "reco energy from layers 30.294986092158673 GeV\n",
      "overflow 0.036879947181557966 GeV\n",
      "reco + overflow 30.33186603934023\n",
      "\n",
      "\n",
      "Event 2\n",
      "Total Energy: [85.59280354] GeV\n",
      "Layer 0: 10229.656556025227 MeV\n",
      "Layer 1: 74766.53291204 MeV\n",
      "Layer 2: 97.02212616923359 MeV\n",
      "Overflow:  [16.2788195  76.01014154  1.513668  ]\n",
      "reco energy from layers 85.09321159423445 GeV\n",
      "overflow 0.09380262904223692 GeV\n",
      "reco + overflow 85.18701422327668\n",
      "\n",
      "\n",
      "Event 3\n",
      "Total Energy: [45.30479366] GeV\n",
      "Layer 0: 10315.935893990776 MeV\n",
      "Layer 1: 34719.14493433065 MeV\n",
      "Layer 2: 38.387773748155944 MeV\n",
      "Overflow:  [6.25997022e+00 3.91373308e+01 2.03221065e-02]\n",
      "reco energy from layers 45.07346860206958 GeV\n",
      "overflow 0.0454176231227129 GeV\n",
      "reco + overflow 45.11888622519229\n",
      "\n",
      "\n",
      "Event 4\n",
      "Total Energy: [7.54570583] GeV\n",
      "Layer 0: 1680.239751366165 MeV\n",
      "Layer 1: 5841.610947297349 MeV\n",
      "Layer 2: 4.197512259428583 MeV\n",
      "Overflow:  [0.         4.81454085 0.        ]\n",
      "reco energy from layers 7.526048210922943 GeV\n",
      "overflow 0.0048145408526174055 GeV\n",
      "reco + overflow 7.530862751775561\n"
     ]
    }
   ],
   "source": [
    "# Look at the first event\n",
    "for i in range(5):\n",
    "    \n",
    "    print('\\n\\nEvent',i)\n",
    "    print('Total Energy: {} GeV'.format(gamma_E[i]))\n",
    "    \n",
    "    imgs = [gamma_0[i], gamma_1[i], gamma_2[i]]\n",
    "    \n",
    "    E_layer = np.array([np.sum(img) for img in imgs])\n",
    "    \n",
    "    print('Layer 0: {} MeV'.format(E_layer[0]))\n",
    "    print('Layer 1: {} MeV'.format(E_layer[1]))\n",
    "    print('Layer 2: {} MeV'.format(E_layer[2]))\n",
    "    print('Overflow: ',g_overflow[i])\n",
    "    \n",
    "    E_reco = np.sum(E_layer)/1000\n",
    "    print('reco energy from layers {} GeV'.format(E_reco))\n",
    "    sum_ovfl = np.sum(g_overflow[i])/1000\n",
    "    print('overflow {} GeV'.format(sum_ovfl))\n",
    "    \n",
    "    print('reco + overflow {}'.format(E_reco+sum_ovfl))"
   ]
  },
  {
   "cell_type": "markdown",
   "metadata": {},
   "source": [
    "Something interesting to note: the difference between the reco energy and the overflow bins is the same order of magnitude as the the final difference between the reco and the truth energies."
   ]
  },
  {
   "cell_type": "markdown",
   "metadata": {},
   "source": [
    "## 2. Plot the distributions of $E_{truth}$ and $E_{reco}$ for each of the particle types, maybe the error??"
   ]
  },
  {
   "cell_type": "code",
   "execution_count": 6,
   "metadata": {},
   "outputs": [],
   "source": [
    "real_images_gamma = [gamma_0, gamma_1, gamma_2]\n",
    "real_images_eplus = [eplus_0, eplus_1, eplus_2]\n",
    "real_images_piplus = [piplus_0, piplus_1, piplus_2]"
   ]
  },
  {
   "cell_type": "code",
   "execution_count": 7,
   "metadata": {},
   "outputs": [],
   "source": [
    "def total_energy(d):\n",
    "    '''\n",
    "    Calculates the total energy for each event across all layers.\n",
    "    Args:\n",
    "    -----\n",
    "    d: an h5py File with fields 'layer_2', 'layer_1', 'layer_0'\n",
    "       that represent the 2d cell grids and the corresponding\n",
    "       E depositons.\n",
    "       \n",
    "    Function taken from the CaloGAN repo \n",
    "    '''\n",
    "    return d['layer_0'][:].sum(axis=(1, 2)) + d['layer_1'][:].sum(axis=(1, 2)) + d['layer_2'][:].sum(axis=(1, 2))\n"
   ]
  },
  {
   "cell_type": "code",
   "execution_count": 8,
   "metadata": {},
   "outputs": [],
   "source": [
    "etot_orig_eplus = total_energy(d_eplus)\n",
    "#etot_gen_eplus = total_energy(dgen_eplus)\n",
    "etot_orig_gamma = total_energy(d_gamma)\n",
    "#etot_gen_gamma = total_energy(dgen_gamma)\n",
    "etot_orig_piplus = total_energy(d_piplus)\n",
    "#etot_gen_piplus = total_energy(dgen_piplus)"
   ]
  },
  {
   "cell_type": "code",
   "execution_count": 9,
   "metadata": {},
   "outputs": [],
   "source": [
    "gamma_df = pd.DataFrame()\n",
    "eplus_df = pd.DataFrame()\n",
    "piplus_df = pd.DataFrame()\n",
    "\n",
    "dfs = [eplus_df, gamma_df, piplus_df]\n",
    "reco_Es = [etot_orig_eplus, etot_orig_gamma, etot_orig_piplus] # rn in MeV\n",
    "truth_Es = [eplus_E,gamma_E,piplus_E]\n",
    "\n",
    "for df, etot_orig, Etruth in zip(dfs, reco_Es, truth_Es):\n",
    "\n",
    "    df['Etruth'] = pd.Series([E[0] for E in Etruth])\n",
    "    df['Ereco'] = pd.Series(etot_orig * 0.001)\n",
    "    df['err'] = df['Etruth'] - df['Ereco']"
   ]
  },
  {
   "cell_type": "code",
   "execution_count": 10,
   "metadata": {},
   "outputs": [
    {
     "data": {
      "text/html": [
       "<div>\n",
       "<style scoped>\n",
       "    .dataframe tbody tr th:only-of-type {\n",
       "        vertical-align: middle;\n",
       "    }\n",
       "\n",
       "    .dataframe tbody tr th {\n",
       "        vertical-align: top;\n",
       "    }\n",
       "\n",
       "    .dataframe thead th {\n",
       "        text-align: right;\n",
       "    }\n",
       "</style>\n",
       "<table border=\"1\" class=\"dataframe\">\n",
       "  <thead>\n",
       "    <tr style=\"text-align: right;\">\n",
       "      <th></th>\n",
       "      <th>Etruth</th>\n",
       "      <th>Ereco</th>\n",
       "      <th>err</th>\n",
       "    </tr>\n",
       "  </thead>\n",
       "  <tbody>\n",
       "    <tr>\n",
       "      <th>0</th>\n",
       "      <td>68.921405</td>\n",
       "      <td>68.420708</td>\n",
       "      <td>0.500697</td>\n",
       "    </tr>\n",
       "    <tr>\n",
       "      <th>1</th>\n",
       "      <td>30.485311</td>\n",
       "      <td>30.294986</td>\n",
       "      <td>0.190325</td>\n",
       "    </tr>\n",
       "    <tr>\n",
       "      <th>2</th>\n",
       "      <td>85.592804</td>\n",
       "      <td>85.093212</td>\n",
       "      <td>0.499592</td>\n",
       "    </tr>\n",
       "    <tr>\n",
       "      <th>3</th>\n",
       "      <td>45.304794</td>\n",
       "      <td>45.073469</td>\n",
       "      <td>0.231325</td>\n",
       "    </tr>\n",
       "    <tr>\n",
       "      <th>4</th>\n",
       "      <td>7.545706</td>\n",
       "      <td>7.526048</td>\n",
       "      <td>0.019658</td>\n",
       "    </tr>\n",
       "  </tbody>\n",
       "</table>\n",
       "</div>"
      ],
      "text/plain": [
       "      Etruth      Ereco       err\n",
       "0  68.921405  68.420708  0.500697\n",
       "1  30.485311  30.294986  0.190325\n",
       "2  85.592804  85.093212  0.499592\n",
       "3  45.304794  45.073469  0.231325\n",
       "4   7.545706   7.526048  0.019658"
      ]
     },
     "execution_count": 10,
     "metadata": {},
     "output_type": "execute_result"
    }
   ],
   "source": [
    "gamma_df.head()"
   ]
  },
  {
   "cell_type": "code",
   "execution_count": 11,
   "metadata": {},
   "outputs": [
    {
     "data": {
      "image/png": "[encoded data removed]",
      "text/plain": [
       "<matplotlib.figure.Figure at 0x7eff068a1b00>"
      ]
     },
     "metadata": {},
     "output_type": "display_data"
    }
   ],
   "source": [
    "# Ok, everything's loaded in memory now... let's plot the histograms!!\n",
    "plt.hist(eplus_df.Etruth, color='C0', label='e+', alpha=0.5)\n",
    "plt.hist(gamma_df.Etruth, color='C1', label='$\\gamma$', alpha=0.5)\n",
    "plt.hist(piplus_df.Etruth, color='C2', label='$\\pi$ +', alpha=0.5)\n",
    "plt.xlabel('E [GeV]')\n",
    "plt.title('Truth Energy')\n",
    "plt.legend()\n",
    "plt.show()"
   ]
  },
  {
   "cell_type": "code",
   "execution_count": 12,
   "metadata": {},
   "outputs": [
    {
     "data": {
      "image/png": "[encoded data removed]",
      "text/plain": [
       "<matplotlib.figure.Figure at 0x7eff06b34be0>"
      ]
     },
     "metadata": {},
     "output_type": "display_data"
    }
   ],
   "source": [
    "plt.hist(eplus_df.Ereco, color='C0', label='e+', alpha=0.5)\n",
    "plt.hist(gamma_df.Ereco, color='C1', label='$\\gamma$', alpha=0.5)\n",
    "plt.hist(piplus_df.Ereco, color='C2', label='$\\pi$ +', alpha=0.5)\n",
    "plt.xlabel('E [GeV]')\n",
    "plt.title('Reco Energy')\n",
    "plt.legend()\n",
    "plt.show()"
   ]
  },
  {
   "cell_type": "code",
   "execution_count": 13,
   "metadata": {},
   "outputs": [
    {
     "data": {
      "text/plain": [
       "(100000,)"
      ]
     },
     "execution_count": 13,
     "metadata": {},
     "output_type": "execute_result"
    }
   ],
   "source": [
    "etot_orig_eplus.shape"
   ]
  },
  {
   "cell_type": "code",
   "execution_count": 14,
   "metadata": {},
   "outputs": [
    {
     "data": {
      "text/plain": [
       "(100000,)"
      ]
     },
     "execution_count": 14,
     "metadata": {},
     "output_type": "execute_result"
    }
   ],
   "source": [
    "eplus_df.Etruth.shape"
   ]
  },
  {
   "cell_type": "code",
   "execution_count": 15,
   "metadata": {},
   "outputs": [
    {
     "data": {
      "image/png": "[encoded data removed]",
      "text/plain": [
       "<matplotlib.figure.Figure at 0x7efe9c5e79e8>"
      ]
     },
     "metadata": {},
     "output_type": "display_data"
    },
    {
     "data": {
      "image/png": "[encoded data removed]",
      "text/plain": [
       "<matplotlib.figure.Figure at 0x7eff068a14a8>"
      ]
     },
     "metadata": {},
     "output_type": "display_data"
    },
    {
     "data": {
      "image/png": "[encoded data removed]",
      "text/plain": [
       "<matplotlib.figure.Figure at 0x7eff06990f98>"
      ]
     },
     "metadata": {},
     "output_type": "display_data"
    }
   ],
   "source": [
    "# Hmmm, is the goal to look at the energy resolution and find a correction that works for pions and well as\n",
    "# e/gammas, OR also zoom in on the resolution of the e/gammas?\n",
    "\n",
    "colors = ['C0','C1','C2']\n",
    "labels = ['e+', '$\\gamma$','$\\pi$ +']\n",
    "ranges = [(-0.5,5.5),(-0.5,5.5),(-0.5,100.5)]\n",
    "Nbins = [60,60,101]\n",
    "for c, df, label, myRange,N in zip(colors, dfs, labels, ranges, Nbins):\n",
    "\n",
    "    plt.figure()\n",
    "    plt.hist(df['err'], color=c, alpha=0.5, range=myRange, bins=N)\n",
    "    plt.xlabel('{}: $E(reco) - E(truth)$ [GeV]'.format(label))\n",
    "\n",
    "    \n",
    "plt.show()"
   ]
  },
  {
   "cell_type": "code",
   "execution_count": 16,
   "metadata": {},
   "outputs": [
    {
     "data": {
      "text/plain": [
       "(-0.0010219978200041169, 38.93867763055549)"
      ]
     },
     "execution_count": 16,
     "metadata": {},
     "output_type": "execute_result"
    }
   ],
   "source": [
    "min(eplus_df.err),max(eplus_df.err)"
   ]
  },
  {
   "cell_type": "code",
   "execution_count": 17,
   "metadata": {},
   "outputs": [
    {
     "data": {
      "text/plain": [
       "(-3.552713678800501e-15, 74.00067382071924)"
      ]
     },
     "execution_count": 17,
     "metadata": {},
     "output_type": "execute_result"
    }
   ],
   "source": [
    "min(gamma_df.err),max(gamma_df.err)"
   ]
  },
  {
   "cell_type": "code",
   "execution_count": 18,
   "metadata": {},
   "outputs": [
    {
     "data": {
      "text/plain": [
       "(-0.11581469826671498, 99.6946790556601)"
      ]
     },
     "execution_count": 18,
     "metadata": {},
     "output_type": "execute_result"
    }
   ],
   "source": [
    "min(piplus_df.err),max(piplus_df.err)"
   ]
  },
  {
   "cell_type": "markdown",
   "metadata": {},
   "source": [
    "**Notes**:\n",
    "- The pion errors are *huge* since pions aren't contained in the ECAL. BUT maybe we could build a classifier that is also able to distinguish between hadronic and EM showers?\n",
    "- Since there's only 1 GeV error for just adding up all of the energy in the layers, this dataset is *not* modeling detector resolution effects, so for our project, we're going to look at **classification** instead of regression.\n"
   ]
  },
  {
   "cell_type": "markdown",
   "metadata": {},
   "source": []
  }
 ],
 "metadata": {
  "kernelspec": {
   "display_name": "Python 3",
   "language": "python",
   "name": "python3"
  },
  "language_info": {
   "codemirror_mode": {
    "name": "ipython",
    "version": 3
   },
   "file_extension": ".py",
   "mimetype": "text/x-python",
   "name": "python",
   "nbconvert_exporter": "python",
   "pygments_lexer": "ipython3",
   "version": "3.6.4"
  }
 },
 "nbformat": 4,
 "nbformat_minor": 2
}
