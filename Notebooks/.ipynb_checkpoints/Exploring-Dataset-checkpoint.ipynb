{
 "cells": [
  {
   "cell_type": "markdown",
   "metadata": {},
   "source": [
    "# Exploring Dataset\n",
    "\n",
    "Goals: Open the data set, make some plots, gain some intuition for what your inputs for the models are going to be!\n"
   ]
  },
  {
   "cell_type": "markdown",
   "metadata": {},
   "source": [
    "## 1. Load in the dataset\n",
    "\n",
    "Just load the dataset in downloaded from Mendeley.\n",
    "\n",
    "https://data.mendeley.com/datasets/pvn3xc3wy5/1"
   ]
  },
  {
   "cell_type": "code",
   "execution_count": 1,
   "metadata": {
    "collapsed": true
   },
   "outputs": [],
   "source": [
    "from __future__ import division, print_function\n",
    "import h5py\n",
    "import numpy as np\n",
    "import pandas as pd\n",
    "import matplotlib\n",
    "import matplotlib.pyplot as plt\n",
    "from matplotlib.colors import LogNorm\n",
    "%matplotlib inline"
   ]
  },
  {
   "cell_type": "code",
   "execution_count": 2,
   "metadata": {
    "collapsed": true
   },
   "outputs": [],
   "source": [
    "d_gamma = h5py.File('../data/gamma.hdf5', 'r')\n",
    "d_eplus = h5py.File('../data/eplus.hdf5', 'r')\n",
    "d_piplus = h5py.File('../data/piplus.hdf5', 'r')"
   ]
  },
  {
   "cell_type": "code",
   "execution_count": 3,
   "metadata": {},
   "outputs": [
    {
     "name": "stdout",
     "output_type": "stream",
     "text": [
      "energy\n",
      "layer_0\n",
      "layer_1\n",
      "layer_2\n",
      "overflow\n"
     ]
    }
   ],
   "source": [
    "# Take a look at what variables are in the datasets \n",
    "for key in d_gamma:\n",
    "    print(key)"
   ]
  },
  {
   "cell_type": "markdown",
   "metadata": {},
   "source": [
    "The energy corresponds to the truth labels that we're going to try to learn for this regression task. \n",
    "\n",
    "Next: unpack these datasets!!"
   ]
  },
  {
   "cell_type": "code",
   "execution_count": 8,
   "metadata": {},
   "outputs": [],
   "source": [
    "gamma_E    = d_gamma['energy'][:]\n",
    "gamma_0    = d_gamma['layer_0'][:]\n",
    "gamma_1    = d_gamma['layer_1'][:]\n",
    "gamma_2    = d_gamma['layer_2'][:]\n",
    "g_overflow = d_gamma['overflow'][:]\n",
    "\n",
    "eplus_E    = d_eplus['energy'][:]\n",
    "eplus_0    = d_eplus['layer_0'][:]\n",
    "eplus_1    = d_eplus['layer_1'][:]\n",
    "eplus_2    = d_eplus['layer_2'][:]\n",
    "e_overflow = d_eplus['overflow'][:]\n",
    "\n",
    "piplus_E   = d_piplus['energy'][:]\n",
    "piplus_0   = d_piplus['layer_0'][:]\n",
    "piplus_1   = d_piplus['layer_1'][:]\n",
    "piplus_2   = d_piplus['layer_2'][:]\n",
    "p_overflow = d_piplus['overflow'][:]"
   ]
  },
  {
   "cell_type": "code",
   "execution_count": 9,
   "metadata": {},
   "outputs": [
    {
     "name": "stdout",
     "output_type": "stream",
     "text": [
      "\n",
      "\n",
      "Event 0\n",
      "Total Energy: [ 68.92140509] GeV\n",
      "Layer 0: 5725.28586987 MeV\n",
      "Layer 1: 62348.5531234 MeV\n",
      "Layer 2: 346.868688118 MeV\n",
      "Overflow:  [  5.97469011  86.82075045   2.88631745]\n",
      "reco energy from layers 68.4207076814 GeV\n",
      "overflow 0.0956817580152 GeV\n",
      "reco + overflow 68.5163894394\n",
      "\n",
      "\n",
      "Event 1\n",
      "Total Energy: [ 30.48531135] GeV\n",
      "Layer 0: 9153.44425126 MeV\n",
      "Layer 1: 21117.7822771 MeV\n",
      "Layer 2: 23.7595637755 MeV\n",
      "Overflow:  [  7.01464092  25.51877899   4.34652727]\n",
      "reco energy from layers 30.2949860922 GeV\n",
      "overflow 0.0368799471816 GeV\n",
      "reco + overflow 30.3318660393\n",
      "\n",
      "\n",
      "Event 2\n",
      "Total Energy: [ 85.59280354] GeV\n",
      "Layer 0: 10229.656556 MeV\n",
      "Layer 1: 74766.532912 MeV\n",
      "Layer 2: 97.0221261692 MeV\n",
      "Overflow:  [ 16.2788195   76.01014154   1.513668  ]\n",
      "reco energy from layers 85.0932115942 GeV\n",
      "overflow 0.0938026290422 GeV\n",
      "reco + overflow 85.1870142233\n",
      "\n",
      "\n",
      "Event 3\n",
      "Total Energy: [ 45.30479366] GeV\n",
      "Layer 0: 10315.935894 MeV\n",
      "Layer 1: 34719.1449343 MeV\n",
      "Layer 2: 38.3877737482 MeV\n",
      "Overflow:  [  6.25997022e+00   3.91373308e+01   2.03221065e-02]\n",
      "reco energy from layers 45.0734686021 GeV\n",
      "overflow 0.0454176231227 GeV\n",
      "reco + overflow 45.1188862252\n",
      "\n",
      "\n",
      "Event 4\n",
      "Total Energy: [ 7.54570583] GeV\n",
      "Layer 0: 1680.23975137 MeV\n",
      "Layer 1: 5841.6109473 MeV\n",
      "Layer 2: 4.19751225943 MeV\n",
      "Overflow:  [ 0.          4.81454085  0.        ]\n",
      "reco energy from layers 7.52604821092 GeV\n",
      "overflow 0.00481454085262 GeV\n",
      "reco + overflow 7.53086275178\n"
     ]
    }
   ],
   "source": [
    "# Look at the first event\n",
    "for i in range(5):\n",
    "    \n",
    "    print('\\n\\nEvent',i)\n",
    "    print('Total Energy: {} GeV'.format(gamma_E[i]))\n",
    "    \n",
    "    imgs = [gamma_0[i], gamma_1[i], gamma_2[i]]\n",
    "    \n",
    "    E_layer = np.array([np.sum(img) for img in imgs])\n",
    "    \n",
    "    print('Layer 0: {} MeV'.format(E_layer[0]))\n",
    "    print('Layer 1: {} MeV'.format(E_layer[1]))\n",
    "    print('Layer 2: {} MeV'.format(E_layer[2]))\n",
    "    print('Overflow: ',g_overflow[i])\n",
    "    \n",
    "    E_reco = np.sum(E_layer)/1000\n",
    "    print('reco energy from layers {} GeV'.format(E_reco))\n",
    "    sum_ovfl = np.sum(g_overflow[i])/1000\n",
    "    print('overflow {} GeV'.format(sum_ovfl))\n",
    "    \n",
    "    print('reco + overflow {}'.format(E_reco+sum_ovfl))"
   ]
  },
  {
   "cell_type": "markdown",
   "metadata": {},
   "source": [
    "Something interesting to note: the difference between the reco energy and the overflow bins is the same order of magnitude as the the final difference between the reco and the truth energies."
   ]
  },
  {
   "cell_type": "markdown",
   "metadata": {},
   "source": [
    "## 2. Plot the distributions of $E_{truth}$ and $E_{reco}$ for each of the particle types, maybe the error??"
   ]
  },
  {
   "cell_type": "code",
   "execution_count": 10,
   "metadata": {
    "collapsed": true
   },
   "outputs": [],
   "source": [
    "real_images_gamma = [gamma_0, gamma_1, gamma_2]\n",
    "real_images_eplus = [eplus_0, eplus_1, eplus_2]\n",
    "real_images_piplus = [piplus_0, piplus_1, piplus_2]"
   ]
  },
  {
   "cell_type": "code",
   "execution_count": 13,
   "metadata": {
    "collapsed": true
   },
   "outputs": [],
   "source": [
    "def total_energy(d):\n",
    "    '''\n",
    "    Calculates the total energy for each event across all layers.\n",
    "    Args:\n",
    "    -----\n",
    "    d: an h5py File with fields 'layer_2', 'layer_1', 'layer_0'\n",
    "       that represent the 2d cell grids and the corresponding\n",
    "       E depositons.\n",
    "       \n",
    "    Function taken from the CaloGAN repo \n",
    "    '''\n",
    "    return d['layer_0'][:].sum(axis=(1, 2)) + d['layer_1'][:].sum(axis=(1, 2)) + d['layer_2'][:].sum(axis=(1, 2))\n"
   ]
  },
  {
   "cell_type": "code",
   "execution_count": 14,
   "metadata": {},
   "outputs": [],
   "source": [
    "etot_orig_eplus = total_energy(d_eplus)\n",
    "#etot_gen_eplus = total_energy(dgen_eplus)\n",
    "etot_orig_gamma = total_energy(d_gamma)\n",
    "#etot_gen_gamma = total_energy(dgen_gamma)\n",
    "etot_orig_piplus = total_energy(d_piplus)\n",
    "#etot_gen_piplus = total_energy(dgen_piplus)"
   ]
  },
  {
   "cell_type": "code",
   "execution_count": null,
   "metadata": {
    "collapsed": true
   },
   "outputs": [],
   "source": []
  },
  {
   "cell_type": "code",
   "execution_count": 6,
   "metadata": {},
   "outputs": [
    {
     "ename": "TypeError",
     "evalue": "unbound method __array__() must be called with Series instance as first argument (got nothing instead)",
     "output_type": "error",
     "traceback": [
      "\u001b[0;31m---------------------------------------------------------------------------\u001b[0m",
      "\u001b[0;31mTypeError\u001b[0m                                 Traceback (most recent call last)",
      "\u001b[0;32m<ipython-input-6-020cd39f98be>\u001b[0m in \u001b[0;36m<module>\u001b[0;34m()\u001b[0m\n\u001b[1;32m      6\u001b[0m \u001b[0;34m\u001b[0m\u001b[0m\n\u001b[1;32m      7\u001b[0m     \u001b[0mdf\u001b[0m\u001b[0;34m[\u001b[0m\u001b[0;34m'Etruth'\u001b[0m\u001b[0;34m]\u001b[0m \u001b[0;34m=\u001b[0m \u001b[0mpd\u001b[0m\u001b[0;34m.\u001b[0m\u001b[0mSeries\u001b[0m\u001b[0;34m(\u001b[0m\u001b[0;34m[\u001b[0m\u001b[0mE\u001b[0m\u001b[0;34m[\u001b[0m\u001b[0;36m0\u001b[0m\u001b[0;34m]\u001b[0m \u001b[0;32mfor\u001b[0m \u001b[0mE\u001b[0m \u001b[0;32min\u001b[0m \u001b[0mgamma_E\u001b[0m\u001b[0;34m]\u001b[0m\u001b[0;34m)\u001b[0m\u001b[0;34m\u001b[0m\u001b[0m\n\u001b[0;32m----> 8\u001b[0;31m     \u001b[0mdf\u001b[0m\u001b[0;34m[\u001b[0m\u001b[0;34m'Ereco'\u001b[0m\u001b[0;34m]\u001b[0m  \u001b[0;34m=\u001b[0m \u001b[0mpd\u001b[0m\u001b[0;34m.\u001b[0m\u001b[0mSeries\u001b[0m\u001b[0;34m\u001b[0m\u001b[0m\n\u001b[0m",
      "\u001b[0;32m/nfs/slac/g/atlas/u02/makagan/miniconda3/envs/mlenv2/lib/python2.7/site-packages/pandas/core/frame.pyc\u001b[0m in \u001b[0;36m__setitem__\u001b[0;34m(self, key, value)\u001b[0m\n\u001b[1;32m   2427\u001b[0m         \u001b[0;32melse\u001b[0m\u001b[0;34m:\u001b[0m\u001b[0;34m\u001b[0m\u001b[0m\n\u001b[1;32m   2428\u001b[0m             \u001b[0;31m# set column\u001b[0m\u001b[0;34m\u001b[0m\u001b[0;34m\u001b[0m\u001b[0m\n\u001b[0;32m-> 2429\u001b[0;31m             \u001b[0mself\u001b[0m\u001b[0;34m.\u001b[0m\u001b[0m_set_item\u001b[0m\u001b[0;34m(\u001b[0m\u001b[0mkey\u001b[0m\u001b[0;34m,\u001b[0m \u001b[0mvalue\u001b[0m\u001b[0;34m)\u001b[0m\u001b[0;34m\u001b[0m\u001b[0m\n\u001b[0m\u001b[1;32m   2430\u001b[0m \u001b[0;34m\u001b[0m\u001b[0m\n\u001b[1;32m   2431\u001b[0m     \u001b[0;32mdef\u001b[0m \u001b[0m_setitem_slice\u001b[0m\u001b[0;34m(\u001b[0m\u001b[0mself\u001b[0m\u001b[0;34m,\u001b[0m \u001b[0mkey\u001b[0m\u001b[0;34m,\u001b[0m \u001b[0mvalue\u001b[0m\u001b[0;34m)\u001b[0m\u001b[0;34m:\u001b[0m\u001b[0;34m\u001b[0m\u001b[0m\n",
      "\u001b[0;32m/nfs/slac/g/atlas/u02/makagan/miniconda3/envs/mlenv2/lib/python2.7/site-packages/pandas/core/frame.pyc\u001b[0m in \u001b[0;36m_set_item\u001b[0;34m(self, key, value)\u001b[0m\n\u001b[1;32m   2493\u001b[0m \u001b[0;34m\u001b[0m\u001b[0m\n\u001b[1;32m   2494\u001b[0m         \u001b[0mself\u001b[0m\u001b[0;34m.\u001b[0m\u001b[0m_ensure_valid_index\u001b[0m\u001b[0;34m(\u001b[0m\u001b[0mvalue\u001b[0m\u001b[0;34m)\u001b[0m\u001b[0;34m\u001b[0m\u001b[0m\n\u001b[0;32m-> 2495\u001b[0;31m         \u001b[0mvalue\u001b[0m \u001b[0;34m=\u001b[0m \u001b[0mself\u001b[0m\u001b[0;34m.\u001b[0m\u001b[0m_sanitize_column\u001b[0m\u001b[0;34m(\u001b[0m\u001b[0mkey\u001b[0m\u001b[0;34m,\u001b[0m \u001b[0mvalue\u001b[0m\u001b[0;34m)\u001b[0m\u001b[0;34m\u001b[0m\u001b[0m\n\u001b[0m\u001b[1;32m   2496\u001b[0m         \u001b[0mNDFrame\u001b[0m\u001b[0;34m.\u001b[0m\u001b[0m_set_item\u001b[0m\u001b[0;34m(\u001b[0m\u001b[0mself\u001b[0m\u001b[0;34m,\u001b[0m \u001b[0mkey\u001b[0m\u001b[0;34m,\u001b[0m \u001b[0mvalue\u001b[0m\u001b[0;34m)\u001b[0m\u001b[0;34m\u001b[0m\u001b[0m\n\u001b[1;32m   2497\u001b[0m \u001b[0;34m\u001b[0m\u001b[0m\n",
      "\u001b[0;32m/nfs/slac/g/atlas/u02/makagan/miniconda3/envs/mlenv2/lib/python2.7/site-packages/pandas/core/frame.pyc\u001b[0m in \u001b[0;36m_sanitize_column\u001b[0;34m(self, key, value, broadcast)\u001b[0m\n\u001b[1;32m   2684\u001b[0m             \u001b[0;31m# upcast the scalar\u001b[0m\u001b[0;34m\u001b[0m\u001b[0;34m\u001b[0m\u001b[0m\n\u001b[1;32m   2685\u001b[0m             \u001b[0mdtype\u001b[0m\u001b[0;34m,\u001b[0m \u001b[0mvalue\u001b[0m \u001b[0;34m=\u001b[0m \u001b[0minfer_dtype_from_scalar\u001b[0m\u001b[0;34m(\u001b[0m\u001b[0mvalue\u001b[0m\u001b[0;34m)\u001b[0m\u001b[0;34m\u001b[0m\u001b[0m\n\u001b[0;32m-> 2686\u001b[0;31m             \u001b[0mvalue\u001b[0m \u001b[0;34m=\u001b[0m \u001b[0mnp\u001b[0m\u001b[0;34m.\u001b[0m\u001b[0mrepeat\u001b[0m\u001b[0;34m(\u001b[0m\u001b[0mvalue\u001b[0m\u001b[0;34m,\u001b[0m \u001b[0mlen\u001b[0m\u001b[0;34m(\u001b[0m\u001b[0mself\u001b[0m\u001b[0;34m.\u001b[0m\u001b[0mindex\u001b[0m\u001b[0;34m)\u001b[0m\u001b[0;34m)\u001b[0m\u001b[0;34m.\u001b[0m\u001b[0mastype\u001b[0m\u001b[0;34m(\u001b[0m\u001b[0mdtype\u001b[0m\u001b[0;34m)\u001b[0m\u001b[0;34m\u001b[0m\u001b[0m\n\u001b[0m\u001b[1;32m   2687\u001b[0m             \u001b[0mvalue\u001b[0m \u001b[0;34m=\u001b[0m \u001b[0mmaybe_cast_to_datetime\u001b[0m\u001b[0;34m(\u001b[0m\u001b[0mvalue\u001b[0m\u001b[0;34m,\u001b[0m \u001b[0mdtype\u001b[0m\u001b[0;34m)\u001b[0m\u001b[0;34m\u001b[0m\u001b[0m\n\u001b[1;32m   2688\u001b[0m \u001b[0;34m\u001b[0m\u001b[0m\n",
      "\u001b[0;32m/nfs/slac/g/atlas/u02/makagan/miniconda3/envs/mlenv2/lib/python2.7/site-packages/numpy/core/fromnumeric.pyc\u001b[0m in \u001b[0;36mrepeat\u001b[0;34m(a, repeats, axis)\u001b[0m\n\u001b[1;32m    396\u001b[0m \u001b[0;34m\u001b[0m\u001b[0m\n\u001b[1;32m    397\u001b[0m     \"\"\"\n\u001b[0;32m--> 398\u001b[0;31m     \u001b[0;32mreturn\u001b[0m \u001b[0m_wrapfunc\u001b[0m\u001b[0;34m(\u001b[0m\u001b[0ma\u001b[0m\u001b[0;34m,\u001b[0m \u001b[0;34m'repeat'\u001b[0m\u001b[0;34m,\u001b[0m \u001b[0mrepeats\u001b[0m\u001b[0;34m,\u001b[0m \u001b[0maxis\u001b[0m\u001b[0;34m=\u001b[0m\u001b[0maxis\u001b[0m\u001b[0;34m)\u001b[0m\u001b[0;34m\u001b[0m\u001b[0m\n\u001b[0m\u001b[1;32m    399\u001b[0m \u001b[0;34m\u001b[0m\u001b[0m\n\u001b[1;32m    400\u001b[0m \u001b[0;34m\u001b[0m\u001b[0m\n",
      "\u001b[0;32m/nfs/slac/g/atlas/u02/makagan/miniconda3/envs/mlenv2/lib/python2.7/site-packages/numpy/core/fromnumeric.pyc\u001b[0m in \u001b[0;36m_wrapfunc\u001b[0;34m(obj, method, *args, **kwds)\u001b[0m\n\u001b[1;32m     65\u001b[0m     \u001b[0;31m# a downstream library like 'pandas'.\u001b[0m\u001b[0;34m\u001b[0m\u001b[0;34m\u001b[0m\u001b[0m\n\u001b[1;32m     66\u001b[0m     \u001b[0;32mexcept\u001b[0m \u001b[0;34m(\u001b[0m\u001b[0mAttributeError\u001b[0m\u001b[0;34m,\u001b[0m \u001b[0mTypeError\u001b[0m\u001b[0;34m)\u001b[0m\u001b[0;34m:\u001b[0m\u001b[0;34m\u001b[0m\u001b[0m\n\u001b[0;32m---> 67\u001b[0;31m         \u001b[0;32mreturn\u001b[0m \u001b[0m_wrapit\u001b[0m\u001b[0;34m(\u001b[0m\u001b[0mobj\u001b[0m\u001b[0;34m,\u001b[0m \u001b[0mmethod\u001b[0m\u001b[0;34m,\u001b[0m \u001b[0;34m*\u001b[0m\u001b[0margs\u001b[0m\u001b[0;34m,\u001b[0m \u001b[0;34m**\u001b[0m\u001b[0mkwds\u001b[0m\u001b[0;34m)\u001b[0m\u001b[0;34m\u001b[0m\u001b[0m\n\u001b[0m\u001b[1;32m     68\u001b[0m \u001b[0;34m\u001b[0m\u001b[0m\n\u001b[1;32m     69\u001b[0m \u001b[0;34m\u001b[0m\u001b[0m\n",
      "\u001b[0;32m/nfs/slac/g/atlas/u02/makagan/miniconda3/envs/mlenv2/lib/python2.7/site-packages/numpy/core/fromnumeric.pyc\u001b[0m in \u001b[0;36m_wrapit\u001b[0;34m(obj, method, *args, **kwds)\u001b[0m\n\u001b[1;32m     45\u001b[0m     \u001b[0;32mexcept\u001b[0m \u001b[0mAttributeError\u001b[0m\u001b[0;34m:\u001b[0m\u001b[0;34m\u001b[0m\u001b[0m\n\u001b[1;32m     46\u001b[0m         \u001b[0mwrap\u001b[0m \u001b[0;34m=\u001b[0m \u001b[0mNone\u001b[0m\u001b[0;34m\u001b[0m\u001b[0m\n\u001b[0;32m---> 47\u001b[0;31m     \u001b[0mresult\u001b[0m \u001b[0;34m=\u001b[0m \u001b[0mgetattr\u001b[0m\u001b[0;34m(\u001b[0m\u001b[0masarray\u001b[0m\u001b[0;34m(\u001b[0m\u001b[0mobj\u001b[0m\u001b[0;34m)\u001b[0m\u001b[0;34m,\u001b[0m \u001b[0mmethod\u001b[0m\u001b[0;34m)\u001b[0m\u001b[0;34m(\u001b[0m\u001b[0;34m*\u001b[0m\u001b[0margs\u001b[0m\u001b[0;34m,\u001b[0m \u001b[0;34m**\u001b[0m\u001b[0mkwds\u001b[0m\u001b[0;34m)\u001b[0m\u001b[0;34m\u001b[0m\u001b[0m\n\u001b[0m\u001b[1;32m     48\u001b[0m     \u001b[0;32mif\u001b[0m \u001b[0mwrap\u001b[0m\u001b[0;34m:\u001b[0m\u001b[0;34m\u001b[0m\u001b[0m\n\u001b[1;32m     49\u001b[0m         \u001b[0;32mif\u001b[0m \u001b[0;32mnot\u001b[0m \u001b[0misinstance\u001b[0m\u001b[0;34m(\u001b[0m\u001b[0mresult\u001b[0m\u001b[0;34m,\u001b[0m \u001b[0mmu\u001b[0m\u001b[0;34m.\u001b[0m\u001b[0mndarray\u001b[0m\u001b[0;34m)\u001b[0m\u001b[0;34m:\u001b[0m\u001b[0;34m\u001b[0m\u001b[0m\n",
      "\u001b[0;32m/nfs/slac/g/atlas/u02/makagan/miniconda3/envs/mlenv2/lib/python2.7/site-packages/numpy/core/numeric.pyc\u001b[0m in \u001b[0;36masarray\u001b[0;34m(a, dtype, order)\u001b[0m\n\u001b[1;32m    529\u001b[0m \u001b[0;34m\u001b[0m\u001b[0m\n\u001b[1;32m    530\u001b[0m     \"\"\"\n\u001b[0;32m--> 531\u001b[0;31m     \u001b[0;32mreturn\u001b[0m \u001b[0marray\u001b[0m\u001b[0;34m(\u001b[0m\u001b[0ma\u001b[0m\u001b[0;34m,\u001b[0m \u001b[0mdtype\u001b[0m\u001b[0;34m,\u001b[0m \u001b[0mcopy\u001b[0m\u001b[0;34m=\u001b[0m\u001b[0mFalse\u001b[0m\u001b[0;34m,\u001b[0m \u001b[0morder\u001b[0m\u001b[0;34m=\u001b[0m\u001b[0morder\u001b[0m\u001b[0;34m)\u001b[0m\u001b[0;34m\u001b[0m\u001b[0m\n\u001b[0m\u001b[1;32m    532\u001b[0m \u001b[0;34m\u001b[0m\u001b[0m\n\u001b[1;32m    533\u001b[0m \u001b[0;34m\u001b[0m\u001b[0m\n",
      "\u001b[0;31mTypeError\u001b[0m: unbound method __array__() must be called with Series instance as first argument (got nothing instead)"
     ]
    }
   ],
   "source": [
    "gamma_df = pd.DataFrame()\n",
    "eplus_df = pd.DataFrame()\n",
    "piplus_df = pd.DataFrame()\n",
    "\n",
    "for df in [gamma_df, eplus_df, piplus_df]:\n",
    "\n",
    "    df['Etruth'] = pd.Series([E[0] for E in gamma_E])\n",
    "    df['Ereco']  = pd.Series\n"
   ]
  },
  {
   "cell_type": "code",
   "execution_count": null,
   "metadata": {
    "collapsed": true
   },
   "outputs": [],
   "source": [
    "pd.D"
   ]
  }
 ],
 "metadata": {
  "kernelspec": {
   "display_name": "Python 2",
   "language": "python",
   "name": "python2"
  },
  "language_info": {
   "codemirror_mode": {
    "name": "ipython",
    "version": 2
   },
   "file_extension": ".py",
   "mimetype": "text/x-python",
   "name": "python",
   "nbconvert_exporter": "python",
   "pygments_lexer": "ipython2",
   "version": "2.7.13"
  }
 },
 "nbformat": 4,
 "nbformat_minor": 2
}
