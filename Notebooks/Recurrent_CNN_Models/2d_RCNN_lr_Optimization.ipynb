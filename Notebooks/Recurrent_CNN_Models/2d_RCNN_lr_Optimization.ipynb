{
 "cells": [
  {
   "cell_type": "code",
   "execution_count": 1,
   "metadata": {},
   "outputs": [
    {
     "name": "stderr",
     "output_type": "stream",
     "text": [
      "/home/shared/anaconda3/lib/python3.6/site-packages/h5py/__init__.py:36: FutureWarning: Conversion of the second argument of issubdtype from `float` to `np.floating` is deprecated. In future, it will be treated as `np.float64 == np.dtype(float).type`.\n",
      "  from ._conv import register_converters as _register_converters\n"
     ]
    },
    {
     "name": "stdout",
     "output_type": "stream",
     "text": [
      "cuda\n"
     ]
    }
   ],
   "source": [
    "import numpy as np\n",
    "import torch\n",
    "import torch.nn as nn\n",
    "import torch.optim as optim\n",
    "\n",
    "# Loading the other modules I have in parent directories\n",
    "import sys\n",
    "PYTHONPATH=\"../\"\n",
    "sys.path.append(PYTHONPATH)\n",
    "from dataProcessing import getDataLoaders\n",
    "from models import ThreeCNN, ThreeCNN_Module, rnn_2dCNN\n",
    "from train import check_accuracy, train, train_ThreeCNN\n",
    "from plottingFcts import trainingMetrics, sigBkgEff, plotROC\n",
    "from imageNumber_analysis import num_valAcc \n",
    "from learn_rate_optimize import lr_optimize, lr_filters_optimize\n",
    "import matplotlib.pyplot as plt\n",
    "\n",
    "# Some more magic so that the notebook will reload external python modules;\n",
    "# see http://stackoverflow.com/questions/1907993/autoreload-of-modules-in-ipython\n",
    "%load_ext autoreload\n",
    "%autoreload "
   ]
  },
  {
   "cell_type": "code",
   "execution_count": 2,
   "metadata": {},
   "outputs": [],
   "source": [
    "layer0_params = [32, 3, 3, 1, 1]\n",
    "layer0_reduce = [1, 3, 93, 1, 1] # ---> Downsampling with one filter at the end\n",
    "\n",
    "layer1_params = [32, 3, 3, 1, 1]\n",
    "layer1_reduce = [1, 12, 9, 1, 1] # ---> Downsampling with one filter \n",
    "\n",
    "layer2_params = [32, 3, 3, 1, 1]\n",
    "layer2_reduce = [1, 12, 3, 1, 1] # ---> downsampling with one filter \n",
    "\n",
    "rnn_params = [18, 18, 1]\n",
    "\n",
    "layer3_params = [32, 3, 3, 1, 1]\n",
    "\n",
    "fc_params = [18, 150, 100, 50, 3, 0.5]"
   ]
  },
  {
   "cell_type": "code",
   "execution_count": 3,
   "metadata": {},
   "outputs": [],
   "source": [
    "all_params = [layer0_params, layer0_reduce, layer1_params, layer1_reduce, layer2_params, layer2_reduce, rnn_params, layer3_params, fc_params]"
   ]
  },
  {
   "cell_type": "code",
   "execution_count": 4,
   "metadata": {},
   "outputs": [],
   "source": [
    "num_images = 30000\n",
    "epochs = 5\n",
    "batch_size = 128\n",
    "iterations = 20"
   ]
  },
  {
   "cell_type": "code",
   "execution_count": 5,
   "metadata": {},
   "outputs": [
    {
     "name": "stdout",
     "output_type": "stream",
     "text": [
      "Assigned best validation accuracy:\n",
      "0.7703333333333333 0.00039958801673957537\n",
      "Finished iteration 1.000000\n",
      "__________________________\n",
      "0.7652222222222222 0.0004937441185465409\n",
      "Finished iteration 2.000000\n",
      "__________________________\n",
      "0.7565555555555555 0.00807387690056321\n",
      "Finished iteration 3.000000\n",
      "__________________________\n",
      "0.6953333333333334 9.319453806970714e-06\n",
      "Finished iteration 4.000000\n",
      "__________________________\n",
      "0.768 0.0011642234679377155\n",
      "Finished iteration 5.000000\n",
      "__________________________\n",
      "0.6901111111111111 6.794649893813036e-06\n",
      "Finished iteration 6.000000\n",
      "__________________________\n",
      "0.764 0.000132388665641474\n",
      "Finished iteration 7.000000\n",
      "__________________________\n",
      "0.6104444444444445 3.737891372027343e-06\n",
      "Finished iteration 8.000000\n",
      "__________________________\n",
      "0.7695555555555555 0.00039245133570266834\n",
      "Finished iteration 9.000000\n",
      "__________________________\n",
      "Assigned best validation accuracy:\n",
      "0.7721111111111111 0.0003689927184634628\n",
      "Finished iteration 10.000000\n",
      "__________________________\n",
      "0.6292222222222222 5.480422727876444e-06\n",
      "Finished iteration 11.000000\n",
      "__________________________\n",
      "0.7516666666666667 4.124838729041475e-05\n",
      "Finished iteration 12.000000\n",
      "__________________________\n",
      "0.7633333333333333 0.00014877639264672895\n",
      "Finished iteration 13.000000\n",
      "__________________________\n",
      "0.7655555555555555 0.0007571701685812757\n",
      "Finished iteration 14.000000\n",
      "__________________________\n",
      "0.7574444444444445 0.00011202227713638206\n",
      "Finished iteration 15.000000\n",
      "__________________________\n",
      "0.7387777777777778 2.2439529823636003e-05\n",
      "Finished iteration 16.000000\n",
      "__________________________\n",
      "0.7498888888888889 0.0036370782077987116\n",
      "Finished iteration 17.000000\n",
      "__________________________\n",
      "0.7587777777777778 4.537184699550969e-05\n",
      "Finished iteration 18.000000\n",
      "__________________________\n",
      "0.5915555555555555 2.6918316831391773e-06\n",
      "Finished iteration 19.000000\n",
      "__________________________\n",
      "0.7582222222222222 7.266097564913678e-05\n",
      "Finished iteration 20.000000\n",
      "__________________________\n"
     ]
    }
   ],
   "source": [
    "val_acc, learn_rates, best_model = lr_optimize(num_images, all_params, epochs, batch_size, iterations)"
   ]
  },
  {
   "cell_type": "code",
   "execution_count": 12,
   "metadata": {},
   "outputs": [
    {
     "data": {
      "text/plain": [
       "[<matplotlib.lines.Line2D at 0x7ff7fb20b908>]"
      ]
     },
     "execution_count": 12,
     "metadata": {},
     "output_type": "execute_result"
    },
    {
     "data": {
      "image/png": "[encoded data removed]",
      "text/plain": [
       "<matplotlib.figure.Figure at 0x7ff7fb35e5f8>"
      ]
     },
     "metadata": {},
     "output_type": "display_data"
    }
   ],
   "source": [
    "plt.plot(learn_rates, val_acc, 'bo')"
   ]
  },
  {
   "cell_type": "code",
   "execution_count": 15,
   "metadata": {},
   "outputs": [
    {
     "name": "stdout",
     "output_type": "stream",
     "text": [
      "[0.7703333333333333, 0.7652222222222222, 0.7565555555555555, 0.6953333333333334, 0.768, 0.6901111111111111, 0.764, 0.6104444444444445, 0.7695555555555555, 0.7721111111111111, 0.6292222222222222, 0.7516666666666667, 0.7633333333333333, 0.7655555555555555, 0.7574444444444445, 0.7387777777777778, 0.7498888888888889, 0.7587777777777778, 0.5915555555555555, 0.7582222222222222]\n",
      "[0.00039958801673957537, 0.0004937441185465409, 0.00807387690056321, 9.319453806970714e-06, 0.0011642234679377155, 6.794649893813036e-06, 0.000132388665641474, 3.737891372027343e-06, 0.00039245133570266834, 0.0003689927184634628, 5.480422727876444e-06, 4.124838729041475e-05, 0.00014877639264672895, 0.0007571701685812757, 0.00011202227713638206, 2.2439529823636003e-05, 0.0036370782077987116, 4.537184699550969e-05, 2.6918316831391773e-06, 7.266097564913678e-05]\n"
     ]
    }
   ],
   "source": [
    "print(val_acc)\n",
    "print(learn_rates)"
   ]
  },
  {
   "cell_type": "code",
   "execution_count": 17,
   "metadata": {},
   "outputs": [
    {
     "name": "stdout",
     "output_type": "stream",
     "text": [
      "0.7721111111111111\n",
      "0.00807387690056321\n",
      "9\n"
     ]
    }
   ],
   "source": [
    "print(np.max(val_acc))\n",
    "print(np.max(learn_rates))\n",
    "print(np.argmax(val_acc))"
   ]
  },
  {
   "cell_type": "code",
   "execution_count": 13,
   "metadata": {},
   "outputs": [],
   "source": [
    "torch.save(best_model.state_dict(), \"../models/lr_optimize_1.pth.tar\")"
   ]
  },
  {
   "cell_type": "markdown",
   "metadata": {},
   "source": [
    "Next experiment --> try adjusting batch size and number of filters, then focus a learning rate search in a very narrow range around optimal learning rates identified above.\n",
    "\n",
    "First, let's do one more lr search in the range 2e-3 to 1e-2; this area was not covered well by the previous learning rate search (see plot above)."
   ]
  },
  {
   "cell_type": "code",
   "execution_count": 11,
   "metadata": {},
   "outputs": [
    {
     "name": "stdout",
     "output_type": "stream",
     "text": [
      "Assigned best validation accuracy:\n",
      "0.7613333333333333 0.004484549089248185\n",
      "Finished iteration 1.000000\n",
      "__________________________\n",
      "Assigned best validation accuracy:\n",
      "0.7657777777777778 0.00922333576532296\n",
      "Finished iteration 2.000000\n",
      "__________________________\n",
      "0.7547777777777778 0.008944881713362374\n",
      "Finished iteration 3.000000\n",
      "__________________________\n",
      "0.7487777777777778 0.009429915752267176\n",
      "Finished iteration 4.000000\n",
      "__________________________\n",
      "0.7604444444444445 0.004947461105264406\n",
      "Finished iteration 5.000000\n",
      "__________________________\n",
      "0.7522222222222222 0.007617880104765673\n",
      "Finished iteration 6.000000\n",
      "__________________________\n",
      "0.7566666666666667 0.003712090229051314\n",
      "Finished iteration 7.000000\n",
      "__________________________\n",
      "0.7613333333333333 0.005003923823573\n",
      "Finished iteration 8.000000\n",
      "__________________________\n",
      "Assigned best validation accuracy:\n",
      "0.7717777777777778 0.0049601804767615085\n",
      "Finished iteration 9.000000\n",
      "__________________________\n",
      "0.7623333333333333 0.006996588941380957\n",
      "Finished iteration 10.000000\n",
      "__________________________\n",
      "0.7622222222222222 0.009382293125671876\n",
      "Finished iteration 11.000000\n",
      "__________________________\n",
      "0.7717777777777778 0.004280657047705461\n",
      "Finished iteration 12.000000\n",
      "__________________________\n",
      "0.7646666666666667 0.005327968567769636\n",
      "Finished iteration 13.000000\n",
      "__________________________\n",
      "0.7695555555555555 0.005954469980142395\n",
      "Finished iteration 14.000000\n",
      "__________________________\n",
      "0.7531111111111111 0.007019948084092169\n",
      "Finished iteration 15.000000\n",
      "__________________________\n",
      "0.7627777777777778 0.004954209859021643\n",
      "Finished iteration 16.000000\n",
      "__________________________\n",
      "0.754 0.006330426369577534\n",
      "Finished iteration 17.000000\n",
      "__________________________\n",
      "0.7686666666666667 0.002493462274396124\n",
      "Finished iteration 18.000000\n",
      "__________________________\n",
      "0.767 0.002608691336389349\n",
      "Finished iteration 19.000000\n",
      "__________________________\n",
      "0.767 0.005400416214739821\n",
      "Finished iteration 20.000000\n",
      "__________________________\n"
     ]
    }
   ],
   "source": [
    "val_acc_2, learn_rates_2, best_model_2 = lr_optimize(num_images, all_params, epochs, batch_size, iterations)"
   ]
  },
  {
   "cell_type": "code",
   "execution_count": 13,
   "metadata": {},
   "outputs": [
    {
     "name": "stdout",
     "output_type": "stream",
     "text": [
      "[0.7613333333333333, 0.7657777777777778, 0.7547777777777778, 0.7487777777777778, 0.7604444444444445, 0.7522222222222222, 0.7566666666666667, 0.7613333333333333, 0.7717777777777778, 0.7623333333333333, 0.7622222222222222, 0.7717777777777778, 0.7646666666666667, 0.7695555555555555, 0.7531111111111111, 0.7627777777777778, 0.754, 0.7686666666666667, 0.767, 0.767]\n",
      "[0.004484549089248185, 0.00922333576532296, 0.008944881713362374, 0.009429915752267176, 0.004947461105264406, 0.007617880104765673, 0.003712090229051314, 0.005003923823573, 0.0049601804767615085, 0.006996588941380957, 0.009382293125671876, 0.004280657047705461, 0.005327968567769636, 0.005954469980142395, 0.007019948084092169, 0.004954209859021643, 0.006330426369577534, 0.002493462274396124, 0.002608691336389349, 0.005400416214739821]\n"
     ]
    }
   ],
   "source": [
    "print(val_acc_2)\n",
    "print(learn_rates_2)"
   ]
  },
  {
   "cell_type": "code",
   "execution_count": 19,
   "metadata": {},
   "outputs": [
    {
     "name": "stdout",
     "output_type": "stream",
     "text": [
      "0.7717777777777778\n",
      "8\n",
      "0.0049601804767615085\n"
     ]
    }
   ],
   "source": [
    "print(np.max(val_acc_2))\n",
    "print(np.argmax(val_acc_2))\n",
    "print(learn_rates_2[8])"
   ]
  },
  {
   "cell_type": "code",
   "execution_count": 17,
   "metadata": {},
   "outputs": [
    {
     "data": {
      "text/plain": [
       "[<matplotlib.lines.Line2D at 0x7fcc0a0d3048>]"
      ]
     },
     "execution_count": 17,
     "metadata": {},
     "output_type": "execute_result"
    },
    {
     "data": {
      "image/png": "[encoded data removed]",
      "text/plain": [
       "<matplotlib.figure.Figure at 0x7fcc0885d4e0>"
      ]
     },
     "metadata": {},
     "output_type": "display_data"
    }
   ],
   "source": [
    "plt.plot(learn_rates_2, val_acc_2, 'bo')"
   ]
  },
  {
   "cell_type": "markdown",
   "metadata": {},
   "source": [
    "Now that we've tried to optimize the learning rate on a given number of filters (32), let's try to optimize the number of filters and the learning rate together (since changing the number of filters changes the number of parameters, which changes the dimensionality of the optimization space, so learning rate should not be optimized seperately from the number of filters). "
   ]
  },
  {
   "cell_type": "code",
   "execution_count": 5,
   "metadata": {},
   "outputs": [
    {
     "name": "stdout",
     "output_type": "stream",
     "text": [
      "Assigned best validation accuracy:\n",
      "0.7736666666666666 0.0005968751080121425\n",
      "85\n",
      "Finished iteration 1.000000\n",
      "__________________________\n",
      "0.7616666666666667 0.002136099932938908\n",
      "108\n",
      "Finished iteration 2.000000\n",
      "__________________________\n",
      "0.7686666666666667 0.001503959156919527\n",
      "26\n",
      "Finished iteration 3.000000\n",
      "__________________________\n",
      "0.6338888888888888 5.488468140708523e-06\n",
      "125\n",
      "Finished iteration 4.000000\n",
      "__________________________\n",
      "0.7644444444444445 0.004491230066723486\n",
      "51\n",
      "Finished iteration 5.000000\n",
      "__________________________\n",
      "0.4871111111111111 1.066140443427929e-06\n",
      "96\n",
      "Finished iteration 6.000000\n",
      "__________________________\n",
      "0.7678888888888888 0.0014630132001310259\n",
      "46\n",
      "Finished iteration 7.000000\n",
      "__________________________\n",
      "0.7381111111111112 4.586274135882059e-05\n",
      "67\n",
      "Finished iteration 8.000000\n",
      "__________________________\n",
      "0.7682222222222223 0.0009231879373218797\n",
      "74\n",
      "Finished iteration 9.000000\n",
      "__________________________\n",
      "0.763 0.00014161792159457864\n",
      "120\n",
      "Finished iteration 10.000000\n",
      "__________________________\n",
      "0.7704444444444445 0.0003028603867162556\n",
      "84\n",
      "Finished iteration 11.000000\n",
      "__________________________\n",
      "0.6521111111111111 8.251399371494144e-06\n",
      "29\n",
      "Finished iteration 12.000000\n",
      "__________________________\n",
      "0.7704444444444445 0.00034089657916850356\n",
      "38\n",
      "Finished iteration 13.000000\n",
      "__________________________\n",
      "0.5686666666666667 3.688942689006333e-06\n",
      "34\n",
      "Finished iteration 14.000000\n",
      "__________________________\n",
      "0.753 7.786965276477616e-05\n",
      "19\n",
      "Finished iteration 15.000000\n",
      "__________________________\n",
      "0.7476666666666667 2.6899897247948412e-05\n",
      "117\n",
      "Finished iteration 16.000000\n",
      "__________________________\n",
      "0.7592222222222222 0.00020630327693395257\n",
      "69\n",
      "Finished iteration 17.000000\n",
      "__________________________\n",
      "0.7675555555555555 0.004038091726555006\n",
      "128\n",
      "Finished iteration 18.000000\n",
      "__________________________\n",
      "0.526 3.2684762430700988e-06\n",
      "26\n",
      "Finished iteration 19.000000\n",
      "__________________________\n",
      "0.7673333333333333 0.005846016285148802\n",
      "35\n",
      "Finished iteration 20.000000\n",
      "__________________________\n"
     ]
    },
    {
     "ename": "ValueError",
     "evalue": "not enough values to unpack (expected 4, got 3)",
     "output_type": "error",
     "traceback": [
      "\u001b[0;31m---------------------------------------------------------------------------\u001b[0m",
      "\u001b[0;31mValueError\u001b[0m                                Traceback (most recent call last)",
      "\u001b[0;32m<ipython-input-5-2e8fb7247f67>\u001b[0m in \u001b[0;36m<module>\u001b[0;34m()\u001b[0m\n\u001b[1;32m      1\u001b[0m \u001b[0mfilter_range\u001b[0m \u001b[0;34m=\u001b[0m \u001b[0;34m[\u001b[0m\u001b[0;36m10\u001b[0m\u001b[0;34m,\u001b[0m \u001b[0;36m130\u001b[0m\u001b[0;34m]\u001b[0m\u001b[0;34m\u001b[0m\u001b[0m\n\u001b[1;32m      2\u001b[0m \u001b[0;34m\u001b[0m\u001b[0m\n\u001b[0;32m----> 3\u001b[0;31m \u001b[0mval_acc_3\u001b[0m\u001b[0;34m,\u001b[0m \u001b[0mlearn_rates_3\u001b[0m\u001b[0;34m,\u001b[0m \u001b[0mnum_filters\u001b[0m\u001b[0;34m,\u001b[0m \u001b[0mbest_model_3\u001b[0m \u001b[0;34m=\u001b[0m \u001b[0mlr_filters_optimize\u001b[0m\u001b[0;34m(\u001b[0m\u001b[0mfilter_range\u001b[0m\u001b[0;34m,\u001b[0m \u001b[0mnum_images\u001b[0m\u001b[0;34m,\u001b[0m \u001b[0mall_params\u001b[0m\u001b[0;34m,\u001b[0m \u001b[0mepochs\u001b[0m\u001b[0;34m,\u001b[0m \u001b[0mbatch_size\u001b[0m\u001b[0;34m,\u001b[0m \u001b[0miterations\u001b[0m\u001b[0;34m)\u001b[0m\u001b[0;34m\u001b[0m\u001b[0m\n\u001b[0m",
      "\u001b[0;31mValueError\u001b[0m: not enough values to unpack (expected 4, got 3)"
     ]
    }
   ],
   "source": [
    "filter_range = [10, 130]\n",
    "\n",
    "val_acc_3, learn_rates_3, num_filters, best_model_3 = lr_filters_optimize(filter_range, num_images, all_params, epochs, batch_size, iterations)"
   ]
  },
  {
   "cell_type": "code",
   "execution_count": null,
   "metadata": {},
   "outputs": [],
   "source": []
  }
 ],
 "metadata": {
  "kernelspec": {
   "display_name": "Python 3",
   "language": "python",
   "name": "python3"
  },
  "language_info": {
   "codemirror_mode": {
    "name": "ipython",
    "version": 3
   },
   "file_extension": ".py",
   "mimetype": "text/x-python",
   "name": "python",
   "nbconvert_exporter": "python",
   "pygments_lexer": "ipython3",
   "version": "3.6.4"
  }
 },
 "nbformat": 4,
 "nbformat_minor": 2
}
