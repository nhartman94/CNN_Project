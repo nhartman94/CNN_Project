{
 "cells": [
  {
   "cell_type": "markdown",
   "metadata": {},
   "source": [
    "# Model Ensembles\n",
    "\n",
    "Based on [Course Notes: Neural Nets Notes 3](http://cs231n.github.io/neural-networks-3/#ensemble), we want to try *averaging* the results from several different models to see if we can improve our final accuracy!\n"
   ]
  },
  {
   "cell_type": "code",
   "execution_count": 1,
   "metadata": {},
   "outputs": [
    {
     "name": "stderr",
     "output_type": "stream",
     "text": [
      "/home/shared/anaconda3/lib/python3.6/site-packages/h5py/__init__.py:36: FutureWarning: Conversion of the second argument of issubdtype from `float` to `np.floating` is deprecated. In future, it will be treated as `np.float64 == np.dtype(float).type`.\n",
      "  from ._conv import register_converters as _register_converters\n"
     ]
    }
   ],
   "source": [
    "import numpy as np\n",
    "import torch\n",
    "import torch.nn as nn\n",
    "import torch.nn.functional as F\n",
    "import torch.optim as optim\n",
    "\n",
    "# Loading the other modules I have in parent directories\n",
    "import sys\n",
    "PYTHONPATH=\"../\"\n",
    "sys.path.append(PYTHONPATH)\n",
    "from dataProcessing import getDataLoaders\n",
    "from models import FCNet, CNN_3d, layer0_12x12, layer2_12x12, layer0_3x6, count_parameters\n",
    "from train import check_accuracy, train\n",
    "from plottingFcts import trainingMetrics, sigBkgEff, plotROC, plotConfusion\n",
    "\n",
    "# Some more magic so that the notebook will reload external python modules;\n",
    "# see http://stackoverflow.com/questions/1907993/autoreload-of-modules-in-ipython\n",
    "%load_ext autoreload\n",
    "%autoreload 2"
   ]
  },
  {
   "cell_type": "code",
   "execution_count": 2,
   "metadata": {},
   "outputs": [],
   "source": [
    "loader_train, loader_val, loader_test = getDataLoaders(batch_size=16, N=20000)"
   ]
  },
  {
   "cell_type": "code",
   "execution_count": 3,
   "metadata": {},
   "outputs": [
    {
     "name": "stdout",
     "output_type": "stream",
     "text": [
      "fc_150_100_50_dpt_0.5\n"
     ]
    }
   ],
   "source": [
    "fc = FCNet()\n",
    "print(fc.modelName)\n",
    "fc.load_state_dict(torch.load(\"../models/{}.pt\".format(fc.modelName)))\n"
   ]
  },
  {
   "cell_type": "code",
   "execution_count": 4,
   "metadata": {},
   "outputs": [
    {
     "name": "stdout",
     "output_type": "stream",
     "text": [
      "cpu\n",
      "Got 4526 / 6000 correct (75.43)\n"
     ]
    }
   ],
   "source": [
    "check_accuracy(loader_val,fc, verbose=True)"
   ]
  },
  {
   "cell_type": "code",
   "execution_count": 5,
   "metadata": {},
   "outputs": [
    {
     "name": "stdout",
     "output_type": "stream",
     "text": [
      "Output size after the first conv: 32,3.0,3.0,6.0\n",
      "Output size after the second conv: 16,2.0,2.0,4.0\n"
     ]
    }
   ],
   "source": [
    "cnn = CNN_3d(spatialDim=(3,6),preConvParams={'nF':32},\n",
    "                 nFilters_1=32, filter_1= (3,3,3), stride_1=(1,1,1), padding_1=(1,1,1),\n",
    "                 nFilters_2=16, filter_2= (3,3,2), stride_2=(2,2,2), padding_2=(1,1,1),\n",
    "                 h1_dim=150, h2_dim=100)\n",
    "cnn.load_state_dict(torch.load(\"../models/{}.pt\".format(cnn.modelName[:-8])))"
   ]
  },
  {
   "cell_type": "code",
   "execution_count": 6,
   "metadata": {},
   "outputs": [
    {
     "name": "stdout",
     "output_type": "stream",
     "text": [
      "cpu\n",
      "Got 4666 / 6000 correct (77.77)\n"
     ]
    }
   ],
   "source": [
    "check_accuracy(loader_val,cnn,verbose=True)"
   ]
  },
  {
   "cell_type": "code",
   "execution_count": 21,
   "metadata": {},
   "outputs": [
    {
     "name": "stdout",
     "output_type": "stream",
     "text": [
      "tensor([[ 0.5183,  0.0184,  0.4633],\n",
      "        [ 0.3737,  0.0240,  0.6023],\n",
      "        [ 0.3611,  0.0218,  0.6171],\n",
      "        [ 0.0717,  0.8770,  0.0513],\n",
      "        [ 0.4850,  0.0323,  0.4827],\n",
      "        [ 0.3774,  0.0216,  0.6010],\n",
      "        [ 0.0363,  0.9517,  0.0120],\n",
      "        [ 0.4697,  0.0236,  0.5067],\n",
      "        [ 0.4197,  0.0213,  0.5590],\n",
      "        [ 0.3536,  0.0192,  0.6272],\n",
      "        [ 0.9419,  0.0219,  0.0361],\n",
      "        [ 0.7115,  0.0173,  0.2712],\n",
      "        [ 0.6656,  0.0281,  0.3063],\n",
      "        [ 0.0320,  0.9507,  0.0172],\n",
      "        [ 0.3795,  0.0242,  0.5964],\n",
      "        [ 0.1042,  0.8618,  0.0340]])\n"
     ]
    },
    {
     "name": "stderr",
     "output_type": "stream",
     "text": [
      "/home/shared/anaconda3/lib/python3.6/site-packages/ipykernel_launcher.py:13: UserWarning: Implicit dimension choice for softmax has been deprecated. Change the call to include dim=X as an argument.\n",
      "  del sys.path[0]\n"
     ]
    }
   ],
   "source": [
    "with torch.no_grad():\n",
    "        for l0, l1, l2, y in loader_val:\n",
    "#             l0 = l0.to(device=device, dtype=dtype)  # move to device, e.g. GPU\n",
    "#             l1 = l1.to(device=device, dtype=dtype)\n",
    "#             l2 = l2.to(device=device, dtype=dtype)\n",
    "#             y = y.to(device=device, dtype=torch.long)\n",
    "            scores1 = fc(l0, l1, l2)\n",
    "            scores2 = cnn(l0, l1, l2)\n",
    "        \n",
    "            print(ensemble([fc,cnn],l0,l1,l2))\n",
    "            \n",
    "            break\n",
    "            "
   ]
  },
  {
   "cell_type": "code",
   "execution_count": 39,
   "metadata": {},
   "outputs": [],
   "source": [
    "def ensemble(models, l0, l1, l2):\n",
    "    '''\n",
    "    Input: \n",
    "    - models: A list of models to take the mean over\n",
    "    \n",
    "    '''\n",
    "    \n",
    "    batch_size = l0.shape[0]\n",
    "\n",
    "    out = torch.zeros(batch_size,3)\n",
    "    \n",
    "    for m in models:\n",
    "        #out += F.softmax(m(l0,l1,l2))\n",
    "        out += m(l0,l1,l2)\n",
    "    \n",
    "    out /= len(models)\n",
    "    \n",
    "    return out"
   ]
  },
  {
   "cell_type": "code",
   "execution_count": 40,
   "metadata": {},
   "outputs": [],
   "source": [
    "device = torch.device('cpu')\n",
    "dtype = torch.float32\n",
    "\n",
    "def check_ensemble_accuracy(loader, models, returnAcc=False, verbose=True):\n",
    "\n",
    "    '''\n",
    "    Check the accuracy of the model\n",
    "\n",
    "    Inputs:\n",
    "        loader: A DataLoader object, i.e, for the val or test st\n",
    "        model: A Pytorch model to check the accuracy on\n",
    "        returnAcc: If true, the function will return the calculated accuracy\n",
    "\n",
    "    '''\n",
    "\n",
    "    num_correct = 0\n",
    "    num_samples = 0\n",
    "    for m in models:\n",
    "        m.eval()  # set model to evaluation mode\n",
    "        m = m.to(device=device)\n",
    "\n",
    "    with torch.no_grad():\n",
    "        for l0, l1, l2, y in loader:\n",
    "            l0 = l0.to(device=device, dtype=dtype)  # move to device, e.g. GPU\n",
    "            l1 = l1.to(device=device, dtype=dtype)\n",
    "            l2 = l2.to(device=device, dtype=dtype)\n",
    "            y = y.to(device=device, dtype=torch.long)\n",
    "\n",
    "            scores = ensemble(models,l0,l1,l2)\n",
    "            _, preds = scores.max(1)\n",
    "            num_correct += (preds == y).sum()\n",
    "            num_samples += preds.size(0)\n",
    "        acc = float(num_correct) / num_samples\n",
    "        if verbose:\n",
    "            print('Got %d / %d correct (%.2f)' % (num_correct, num_samples, 100 * acc))"
   ]
  },
  {
   "cell_type": "code",
   "execution_count": 41,
   "metadata": {},
   "outputs": [
    {
     "name": "stdout",
     "output_type": "stream",
     "text": [
      "Got 4621 / 6000 correct (77.02)\n"
     ]
    }
   ],
   "source": [
    "check_ensemble_accuracy(loader_val, [fc,cnn])"
   ]
  },
  {
   "cell_type": "code",
   "execution_count": 38,
   "metadata": {},
   "outputs": [
    {
     "name": "stdout",
     "output_type": "stream",
     "text": [
      "76.600\n"
     ]
    }
   ],
   "source": [
    "print('{:.3f}'.format(.5*(77.77+75.43)))"
   ]
  },
  {
   "cell_type": "code",
   "execution_count": null,
   "metadata": {},
   "outputs": [],
   "source": []
  }
 ],
 "metadata": {
  "kernelspec": {
   "display_name": "Python 3",
   "language": "python",
   "name": "python3"
  },
  "language_info": {
   "codemirror_mode": {
    "name": "ipython",
    "version": 3
   },
   "file_extension": ".py",
   "mimetype": "text/x-python",
   "name": "python",
   "nbconvert_exporter": "python",
   "pygments_lexer": "ipython3",
   "version": "3.6.4"
  }
 },
 "nbformat": 4,
 "nbformat_minor": 2
}
